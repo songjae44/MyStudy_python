{
 "cells": [
  {
   "cell_type": "markdown",
   "metadata": {},
   "source": [
    "# PBL1\n",
    "\n",
    "##### 문제 주제\n",
    "- 매출 데이터 시각화 시스템 개발\n",
    "\n",
    "##### 문제 내용\n",
    "- 1년간의 매출 데이터를 분석하여 월별 매출 총합을 시각화 합니다.\n",
    "- SalesAnalysis 클래스를 활용하여 프로그램을 개발합니다.\n",
    "\n",
    "##### 문제 가이드\n",
    "- 데이터 초기화\n",
    "  - 매출 데이터와 방문자 데이터는 매일 기록되며, 2024년 1월 1일부터 2024년 12월 31일까지의 데이터가 포함됩니다.\n",
    "  - 각 날짜에 대해 매출 데이터를 생성합니다.\n",
    "  - → pd.date_range('2024-01-01', '2024-12-31', freq='D')\n",
    "  - 매출 데이터는 1000 ~ 10000 사이의 정수로 랜덤 생성합니다.  \n",
    "    ← 넘파이 이용해서 랜덤한 데이터 생성\n",
    "    ← np.random.randint(1000, 10000, len(dates))\n",
    "\n",
    "##### 월별 매출 총합을 꺾으선 그래프로 시각화합니다."
   ]
  },
  {
   "cell_type": "code",
   "execution_count": 1,
   "metadata": {},
   "outputs": [],
   "source": [
    "# 필요한 라이브러리 가져오기\n",
    "\n",
    "import numpy as np\n",
    "import matplotlib.pyplot as plt\n",
    "import pandas as pd"
   ]
  },
  {
   "cell_type": "code",
   "execution_count": 2,
   "metadata": {},
   "outputs": [],
   "source": [
    "# 각 날자에 대해 매출 데이터 생성\n",
    "\n",
    "#2024년 1월 1일부터 2024년 12월31일 까지 데이터 범위 설정\n",
    "dates = pd.date_range('2024-01-01', '2024-12-31', freq='D')"
   ]
  },
  {
   "cell_type": "code",
   "execution_count": 3,
   "metadata": {},
   "outputs": [
    {
     "data": {
      "text/plain": [
       "DatetimeIndex(['2024-01-01', '2024-01-02', '2024-01-03', '2024-01-04',\n",
       "               '2024-01-05', '2024-01-06', '2024-01-07', '2024-01-08',\n",
       "               '2024-01-09', '2024-01-10',\n",
       "               ...\n",
       "               '2024-12-22', '2024-12-23', '2024-12-24', '2024-12-25',\n",
       "               '2024-12-26', '2024-12-27', '2024-12-28', '2024-12-29',\n",
       "               '2024-12-30', '2024-12-31'],\n",
       "              dtype='datetime64[ns]', length=366, freq='D')"
      ]
     },
     "execution_count": 3,
     "metadata": {},
     "output_type": "execute_result"
    }
   ],
   "source": [
    "dates"
   ]
  },
  {
   "cell_type": "code",
   "execution_count": 4,
   "metadata": {},
   "outputs": [],
   "source": [
    "# 매출 데이터를 1000~10000 사이의 정수로 랜덤 생성 - numpy\n",
    "sales = np.random.randint(1000,10000,len(dates))"
   ]
  },
  {
   "cell_type": "code",
   "execution_count": 5,
   "metadata": {},
   "outputs": [
    {
     "data": {
      "text/plain": [
       "array([2180, 9441, 3646, 9802, 9400, 7716, 3252, 4328, 6001, 5292, 9198,\n",
       "       6912, 8112, 7624, 5744, 9871, 2803, 1514, 7524, 6760, 7494, 3298,\n",
       "       1935, 4450, 5899, 2759, 5919, 7771, 1251, 1404, 5640, 1689, 3189,\n",
       "       5159, 8173, 1788, 7218, 5649, 4146, 5093, 5422, 6220, 2414, 6389,\n",
       "       4835, 9185, 1889, 4157, 6117, 6488, 7570, 8505, 6791, 8096, 2572,\n",
       "       3051, 9914, 5368, 4064, 6185, 7340, 2978, 6021, 1295, 7592, 4924,\n",
       "       2654, 9987, 7399, 7996, 6335, 4603, 7913, 5187, 2661, 1467, 4989,\n",
       "       6559, 4039, 8354, 7771, 5218, 8725, 4888, 1226, 6102, 1925, 9594,\n",
       "       4415, 9564, 2966, 6209, 4993, 1965, 8717, 5497, 8887, 5259, 8089,\n",
       "       9655, 4143, 8743, 2607, 1784, 2070, 8270, 5856, 8412, 8878, 3282,\n",
       "       7928, 1352, 4730, 6173, 7005, 1407, 2374, 1149, 1217, 6162, 8280,\n",
       "       1509, 2011, 8798, 2982, 3333, 6939, 6861, 3174, 2590, 6181, 7286,\n",
       "       2617, 3612, 8784, 5853, 6305, 4794, 3540, 6060, 1667, 2534, 7625,\n",
       "       3556, 9664, 9815, 7359, 8292, 7670, 1743, 9168, 6662, 7013, 1741,\n",
       "       1034, 1031, 9424, 3471, 7472, 7153, 6023, 6708, 1259, 1806, 3028,\n",
       "       9967, 2322, 3616, 2601, 9273, 4612, 4524, 6088, 6966, 1796, 7842,\n",
       "       5442, 1323, 6520, 4682, 6684, 5042, 6397, 5729, 2686, 8738, 5242,\n",
       "       4146, 1470, 6197, 2180, 7571, 9482, 8134, 5985, 1301, 1082, 1977,\n",
       "       2449, 7757, 4369, 5635, 1861, 3096, 2277, 8619, 3121, 9437, 6807,\n",
       "       6401, 6092, 2648, 5510, 8852, 1147, 8547, 9061, 5399, 2909, 6547,\n",
       "       6313, 3566, 2892, 4285, 3780, 3923, 5553, 5997, 9449, 2888, 1864,\n",
       "       8487, 8174, 8551, 9749, 8233, 3556, 2012, 1857, 2430, 2372, 7956,\n",
       "       8023, 4456, 2651, 4341, 9616, 1292, 7786, 2131, 3411, 1872, 7048,\n",
       "       7838, 6741, 9066, 7846, 2200, 2287, 8423, 8392, 6915, 6160, 7053,\n",
       "       1499, 2163, 1461, 6535, 4703, 6271, 7476, 3899, 9537, 2141, 8251,\n",
       "       1728, 5959, 2606, 4453, 2718, 3528, 4420, 8765, 9560, 1910, 5290,\n",
       "       2206, 1203, 7690, 3353, 8114, 8644, 3395, 5293, 6028, 7048, 4904,\n",
       "       3005, 5843, 7920, 2700, 3627, 1336, 4472, 6001, 3131, 7761, 7055,\n",
       "       8667, 5841, 1761, 8133, 4578, 8451, 7323, 5892, 6001, 6087, 5221,\n",
       "       5070, 8842, 5063, 5508, 1324, 9139, 8520, 1608, 6214, 5322, 2435,\n",
       "       5602, 2287, 7087, 5661, 4911, 3380, 8277, 1597, 6405, 9415, 2327,\n",
       "       1405, 2163, 7679, 3567, 2083, 9956, 2874, 7569, 4180, 5401, 4768,\n",
       "       7858, 1456, 7748, 4460, 7576, 7815, 4162, 3749, 8259, 4266, 1740,\n",
       "       9802, 9316, 2433], dtype=int32)"
      ]
     },
     "execution_count": 5,
     "metadata": {},
     "output_type": "execute_result"
    }
   ],
   "source": [
    "sales"
   ]
  },
  {
   "cell_type": "code",
   "execution_count": 6,
   "metadata": {},
   "outputs": [
    {
     "name": "stdout",
     "output_type": "stream",
     "text": [
      "366\n",
      "366\n"
     ]
    }
   ],
   "source": [
    "print(len(dates))\n",
    "print(len(sales))"
   ]
  },
  {
   "cell_type": "code",
   "execution_count": 7,
   "metadata": {},
   "outputs": [
    {
     "name": "stdout",
     "output_type": "stream",
     "text": [
      "DatetimeIndex(['2024-01-01', '2024-01-02', '2024-01-03', '2024-01-04',\n",
      "               '2024-01-05', '2024-01-06', '2024-01-07', '2024-01-08',\n",
      "               '2024-01-09', '2024-01-10',\n",
      "               ...\n",
      "               '2024-12-22', '2024-12-23', '2024-12-24', '2024-12-25',\n",
      "               '2024-12-26', '2024-12-27', '2024-12-28', '2024-12-29',\n",
      "               '2024-12-30', '2024-12-31'],\n",
      "              dtype='datetime64[ns]', length=366, freq='D')\n"
     ]
    }
   ],
   "source": [
    "print(dates)"
   ]
  },
  {
   "cell_type": "code",
   "execution_count": 8,
   "metadata": {},
   "outputs": [
    {
     "name": "stdout",
     "output_type": "stream",
     "text": [
      "[2180 9441 3646 9802 9400 7716 3252 4328 6001 5292 9198 6912 8112 7624\n",
      " 5744 9871 2803 1514 7524 6760 7494 3298 1935 4450 5899 2759 5919 7771\n",
      " 1251 1404 5640 1689 3189 5159 8173 1788 7218 5649 4146 5093 5422 6220\n",
      " 2414 6389 4835 9185 1889 4157 6117 6488 7570 8505 6791 8096 2572 3051\n",
      " 9914 5368 4064 6185 7340 2978 6021 1295 7592 4924 2654 9987 7399 7996\n",
      " 6335 4603 7913 5187 2661 1467 4989 6559 4039 8354 7771 5218 8725 4888\n",
      " 1226 6102 1925 9594 4415 9564 2966 6209 4993 1965 8717 5497 8887 5259\n",
      " 8089 9655 4143 8743 2607 1784 2070 8270 5856 8412 8878 3282 7928 1352\n",
      " 4730 6173 7005 1407 2374 1149 1217 6162 8280 1509 2011 8798 2982 3333\n",
      " 6939 6861 3174 2590 6181 7286 2617 3612 8784 5853 6305 4794 3540 6060\n",
      " 1667 2534 7625 3556 9664 9815 7359 8292 7670 1743 9168 6662 7013 1741\n",
      " 1034 1031 9424 3471 7472 7153 6023 6708 1259 1806 3028 9967 2322 3616\n",
      " 2601 9273 4612 4524 6088 6966 1796 7842 5442 1323 6520 4682 6684 5042\n",
      " 6397 5729 2686 8738 5242 4146 1470 6197 2180 7571 9482 8134 5985 1301\n",
      " 1082 1977 2449 7757 4369 5635 1861 3096 2277 8619 3121 9437 6807 6401\n",
      " 6092 2648 5510 8852 1147 8547 9061 5399 2909 6547 6313 3566 2892 4285\n",
      " 3780 3923 5553 5997 9449 2888 1864 8487 8174 8551 9749 8233 3556 2012\n",
      " 1857 2430 2372 7956 8023 4456 2651 4341 9616 1292 7786 2131 3411 1872\n",
      " 7048 7838 6741 9066 7846 2200 2287 8423 8392 6915 6160 7053 1499 2163\n",
      " 1461 6535 4703 6271 7476 3899 9537 2141 8251 1728 5959 2606 4453 2718\n",
      " 3528 4420 8765 9560 1910 5290 2206 1203 7690 3353 8114 8644 3395 5293\n",
      " 6028 7048 4904 3005 5843 7920 2700 3627 1336 4472 6001 3131 7761 7055\n",
      " 8667 5841 1761 8133 4578 8451 7323 5892 6001 6087 5221 5070 8842 5063\n",
      " 5508 1324 9139 8520 1608 6214 5322 2435 5602 2287 7087 5661 4911 3380\n",
      " 8277 1597 6405 9415 2327 1405 2163 7679 3567 2083 9956 2874 7569 4180\n",
      " 5401 4768 7858 1456 7748 4460 7576 7815 4162 3749 8259 4266 1740 9802\n",
      " 9316 2433]\n"
     ]
    }
   ],
   "source": [
    "print(sales)"
   ]
  },
  {
   "cell_type": "code",
   "execution_count": 9,
   "metadata": {},
   "outputs": [],
   "source": [
    "data = {\n",
    "    'Date' : dates,\n",
    "    'Sale' : sales\n",
    "}"
   ]
  },
  {
   "cell_type": "code",
   "execution_count": 10,
   "metadata": {},
   "outputs": [
    {
     "name": "stdout",
     "output_type": "stream",
     "text": [
      "{'Date': DatetimeIndex(['2024-01-01', '2024-01-02', '2024-01-03', '2024-01-04',\n",
      "               '2024-01-05', '2024-01-06', '2024-01-07', '2024-01-08',\n",
      "               '2024-01-09', '2024-01-10',\n",
      "               ...\n",
      "               '2024-12-22', '2024-12-23', '2024-12-24', '2024-12-25',\n",
      "               '2024-12-26', '2024-12-27', '2024-12-28', '2024-12-29',\n",
      "               '2024-12-30', '2024-12-31'],\n",
      "              dtype='datetime64[ns]', length=366, freq='D'), 'Sale': array([2180, 9441, 3646, 9802, 9400, 7716, 3252, 4328, 6001, 5292, 9198,\n",
      "       6912, 8112, 7624, 5744, 9871, 2803, 1514, 7524, 6760, 7494, 3298,\n",
      "       1935, 4450, 5899, 2759, 5919, 7771, 1251, 1404, 5640, 1689, 3189,\n",
      "       5159, 8173, 1788, 7218, 5649, 4146, 5093, 5422, 6220, 2414, 6389,\n",
      "       4835, 9185, 1889, 4157, 6117, 6488, 7570, 8505, 6791, 8096, 2572,\n",
      "       3051, 9914, 5368, 4064, 6185, 7340, 2978, 6021, 1295, 7592, 4924,\n",
      "       2654, 9987, 7399, 7996, 6335, 4603, 7913, 5187, 2661, 1467, 4989,\n",
      "       6559, 4039, 8354, 7771, 5218, 8725, 4888, 1226, 6102, 1925, 9594,\n",
      "       4415, 9564, 2966, 6209, 4993, 1965, 8717, 5497, 8887, 5259, 8089,\n",
      "       9655, 4143, 8743, 2607, 1784, 2070, 8270, 5856, 8412, 8878, 3282,\n",
      "       7928, 1352, 4730, 6173, 7005, 1407, 2374, 1149, 1217, 6162, 8280,\n",
      "       1509, 2011, 8798, 2982, 3333, 6939, 6861, 3174, 2590, 6181, 7286,\n",
      "       2617, 3612, 8784, 5853, 6305, 4794, 3540, 6060, 1667, 2534, 7625,\n",
      "       3556, 9664, 9815, 7359, 8292, 7670, 1743, 9168, 6662, 7013, 1741,\n",
      "       1034, 1031, 9424, 3471, 7472, 7153, 6023, 6708, 1259, 1806, 3028,\n",
      "       9967, 2322, 3616, 2601, 9273, 4612, 4524, 6088, 6966, 1796, 7842,\n",
      "       5442, 1323, 6520, 4682, 6684, 5042, 6397, 5729, 2686, 8738, 5242,\n",
      "       4146, 1470, 6197, 2180, 7571, 9482, 8134, 5985, 1301, 1082, 1977,\n",
      "       2449, 7757, 4369, 5635, 1861, 3096, 2277, 8619, 3121, 9437, 6807,\n",
      "       6401, 6092, 2648, 5510, 8852, 1147, 8547, 9061, 5399, 2909, 6547,\n",
      "       6313, 3566, 2892, 4285, 3780, 3923, 5553, 5997, 9449, 2888, 1864,\n",
      "       8487, 8174, 8551, 9749, 8233, 3556, 2012, 1857, 2430, 2372, 7956,\n",
      "       8023, 4456, 2651, 4341, 9616, 1292, 7786, 2131, 3411, 1872, 7048,\n",
      "       7838, 6741, 9066, 7846, 2200, 2287, 8423, 8392, 6915, 6160, 7053,\n",
      "       1499, 2163, 1461, 6535, 4703, 6271, 7476, 3899, 9537, 2141, 8251,\n",
      "       1728, 5959, 2606, 4453, 2718, 3528, 4420, 8765, 9560, 1910, 5290,\n",
      "       2206, 1203, 7690, 3353, 8114, 8644, 3395, 5293, 6028, 7048, 4904,\n",
      "       3005, 5843, 7920, 2700, 3627, 1336, 4472, 6001, 3131, 7761, 7055,\n",
      "       8667, 5841, 1761, 8133, 4578, 8451, 7323, 5892, 6001, 6087, 5221,\n",
      "       5070, 8842, 5063, 5508, 1324, 9139, 8520, 1608, 6214, 5322, 2435,\n",
      "       5602, 2287, 7087, 5661, 4911, 3380, 8277, 1597, 6405, 9415, 2327,\n",
      "       1405, 2163, 7679, 3567, 2083, 9956, 2874, 7569, 4180, 5401, 4768,\n",
      "       7858, 1456, 7748, 4460, 7576, 7815, 4162, 3749, 8259, 4266, 1740,\n",
      "       9802, 9316, 2433], dtype=int32)}\n"
     ]
    }
   ],
   "source": [
    "print(data)"
   ]
  },
  {
   "cell_type": "code",
   "execution_count": 11,
   "metadata": {},
   "outputs": [],
   "source": [
    "df = pd.DataFrame(data)"
   ]
  },
  {
   "cell_type": "code",
   "execution_count": 16,
   "metadata": {},
   "outputs": [
    {
     "name": "stdout",
     "output_type": "stream",
     "text": [
      "          Date  Sale\n",
      "0   2024-01-01  2180\n",
      "1   2024-01-02  9441\n",
      "2   2024-01-03  3646\n",
      "3   2024-01-04  9802\n",
      "4   2024-01-05  9400\n",
      "..         ...   ...\n",
      "361 2024-12-27  4266\n",
      "362 2024-12-28  1740\n",
      "363 2024-12-29  9802\n",
      "364 2024-12-30  9316\n",
      "365 2024-12-31  2433\n",
      "\n",
      "[366 rows x 2 columns]\n"
     ]
    }
   ],
   "source": [
    "print(df)"
   ]
  },
  {
   "cell_type": "code",
   "execution_count": 13,
   "metadata": {},
   "outputs": [
    {
     "name": "stdout",
     "output_type": "stream",
     "text": [
      "<class 'pandas.core.frame.DataFrame'>\n",
      "RangeIndex: 366 entries, 0 to 365\n",
      "Data columns (total 2 columns):\n",
      " #   Column  Non-Null Count  Dtype         \n",
      "---  ------  --------------  -----         \n",
      " 0   Date    366 non-null    datetime64[ns]\n",
      " 1   Sale    366 non-null    int32         \n",
      "dtypes: datetime64[ns](1), int32(1)\n",
      "memory usage: 4.4 KB\n"
     ]
    }
   ],
   "source": [
    "df.info()"
   ]
  },
  {
   "cell_type": "code",
   "execution_count": 14,
   "metadata": {},
   "outputs": [
    {
     "data": {
      "text/plain": [
       "Date    datetime64[ns]\n",
       "Sale             int32\n",
       "dtype: object"
      ]
     },
     "execution_count": 14,
     "metadata": {},
     "output_type": "execute_result"
    }
   ],
   "source": [
    "df.dtypes"
   ]
  },
  {
   "cell_type": "code",
   "execution_count": 17,
   "metadata": {},
   "outputs": [],
   "source": [
    "df['월'] = df['Date'].dt.month"
   ]
  },
  {
   "cell_type": "code",
   "execution_count": 18,
   "metadata": {},
   "outputs": [
    {
     "name": "stdout",
     "output_type": "stream",
     "text": [
      "          Date  Sale   월\n",
      "0   2024-01-01  2180   1\n",
      "1   2024-01-02  9441   1\n",
      "2   2024-01-03  3646   1\n",
      "3   2024-01-04  9802   1\n",
      "4   2024-01-05  9400   1\n",
      "..         ...   ...  ..\n",
      "361 2024-12-27  4266  12\n",
      "362 2024-12-28  1740  12\n",
      "363 2024-12-29  9802  12\n",
      "364 2024-12-30  9316  12\n",
      "365 2024-12-31  2433  12\n",
      "\n",
      "[366 rows x 3 columns]\n"
     ]
    }
   ],
   "source": [
    "print(df)"
   ]
  },
  {
   "cell_type": "code",
   "execution_count": 20,
   "metadata": {},
   "outputs": [],
   "source": [
    "df_m = df.groupby(by='월')['Sale'].sum()"
   ]
  },
  {
   "cell_type": "code",
   "execution_count": 21,
   "metadata": {},
   "outputs": [
    {
     "name": "stdout",
     "output_type": "stream",
     "text": [
      "월\n",
      "1     174940\n",
      "2     157336\n",
      "3     172687\n",
      "4     161093\n",
      "5     168984\n",
      "6     146463\n",
      "7     154396\n",
      "8     168828\n",
      "9     158754\n",
      "10    151970\n",
      "11    170495\n",
      "12    163686\n",
      "Name: Sale, dtype: int32\n"
     ]
    }
   ],
   "source": [
    "print(df_m)"
   ]
  },
  {
   "cell_type": "code",
   "execution_count": 22,
   "metadata": {},
   "outputs": [
    {
     "name": "stdout",
     "output_type": "stream",
     "text": [
      "<class 'pandas.core.series.Series'>\n"
     ]
    }
   ],
   "source": [
    "print(type(df_m))"
   ]
  },
  {
   "cell_type": "code",
   "execution_count": null,
   "metadata": {},
   "outputs": [],
   "source": [
    "x = df_m.index\n",
    "y = df_m\n",
    "\n",
    "plt.rc()"
   ]
  },
  {
   "cell_type": "code",
   "execution_count": null,
   "metadata": {},
   "outputs": [],
   "source": []
  },
  {
   "cell_type": "code",
   "execution_count": null,
   "metadata": {},
   "outputs": [],
   "source": []
  },
  {
   "cell_type": "code",
   "execution_count": 41,
   "metadata": {},
   "outputs": [],
   "source": [
    "# 월별 매출액 총합을 참조할 컬럼 생성\n",
    "df['Total'] = 1"
   ]
  },
  {
   "cell_type": "code",
   "execution_count": 42,
   "metadata": {},
   "outputs": [
    {
     "data": {
      "text/html": [
       "<div>\n",
       "<style scoped>\n",
       "    .dataframe tbody tr th:only-of-type {\n",
       "        vertical-align: middle;\n",
       "    }\n",
       "\n",
       "    .dataframe tbody tr th {\n",
       "        vertical-align: top;\n",
       "    }\n",
       "\n",
       "    .dataframe thead th {\n",
       "        text-align: right;\n",
       "    }\n",
       "</style>\n",
       "<table border=\"1\" class=\"dataframe\">\n",
       "  <thead>\n",
       "    <tr style=\"text-align: right;\">\n",
       "      <th></th>\n",
       "      <th>Date</th>\n",
       "      <th>Sale</th>\n",
       "      <th>Total</th>\n",
       "    </tr>\n",
       "  </thead>\n",
       "  <tbody>\n",
       "    <tr>\n",
       "      <th>0</th>\n",
       "      <td>2024-01-01</td>\n",
       "      <td>6087</td>\n",
       "      <td>1</td>\n",
       "    </tr>\n",
       "    <tr>\n",
       "      <th>1</th>\n",
       "      <td>2024-01-02</td>\n",
       "      <td>2243</td>\n",
       "      <td>1</td>\n",
       "    </tr>\n",
       "    <tr>\n",
       "      <th>2</th>\n",
       "      <td>2024-01-03</td>\n",
       "      <td>9705</td>\n",
       "      <td>1</td>\n",
       "    </tr>\n",
       "    <tr>\n",
       "      <th>3</th>\n",
       "      <td>2024-01-04</td>\n",
       "      <td>7687</td>\n",
       "      <td>1</td>\n",
       "    </tr>\n",
       "    <tr>\n",
       "      <th>4</th>\n",
       "      <td>2024-01-05</td>\n",
       "      <td>8345</td>\n",
       "      <td>1</td>\n",
       "    </tr>\n",
       "    <tr>\n",
       "      <th>...</th>\n",
       "      <td>...</td>\n",
       "      <td>...</td>\n",
       "      <td>...</td>\n",
       "    </tr>\n",
       "    <tr>\n",
       "      <th>361</th>\n",
       "      <td>2024-12-27</td>\n",
       "      <td>8179</td>\n",
       "      <td>1</td>\n",
       "    </tr>\n",
       "    <tr>\n",
       "      <th>362</th>\n",
       "      <td>2024-12-28</td>\n",
       "      <td>6615</td>\n",
       "      <td>1</td>\n",
       "    </tr>\n",
       "    <tr>\n",
       "      <th>363</th>\n",
       "      <td>2024-12-29</td>\n",
       "      <td>1534</td>\n",
       "      <td>1</td>\n",
       "    </tr>\n",
       "    <tr>\n",
       "      <th>364</th>\n",
       "      <td>2024-12-30</td>\n",
       "      <td>5949</td>\n",
       "      <td>1</td>\n",
       "    </tr>\n",
       "    <tr>\n",
       "      <th>365</th>\n",
       "      <td>2024-12-31</td>\n",
       "      <td>5028</td>\n",
       "      <td>1</td>\n",
       "    </tr>\n",
       "  </tbody>\n",
       "</table>\n",
       "<p>366 rows × 3 columns</p>\n",
       "</div>"
      ],
      "text/plain": [
       "          Date  Sale  Total\n",
       "0   2024-01-01  6087      1\n",
       "1   2024-01-02  2243      1\n",
       "2   2024-01-03  9705      1\n",
       "3   2024-01-04  7687      1\n",
       "4   2024-01-05  8345      1\n",
       "..         ...   ...    ...\n",
       "361 2024-12-27  8179      1\n",
       "362 2024-12-28  6615      1\n",
       "363 2024-12-29  1534      1\n",
       "364 2024-12-30  5949      1\n",
       "365 2024-12-31  5028      1\n",
       "\n",
       "[366 rows x 3 columns]"
      ]
     },
     "execution_count": 42,
     "metadata": {},
     "output_type": "execute_result"
    }
   ],
   "source": [
    "df"
   ]
  },
  {
   "cell_type": "code",
   "execution_count": 47,
   "metadata": {},
   "outputs": [],
   "source": [
    "df.set_index(df['Date'], inplace=True)"
   ]
  },
  {
   "cell_type": "code",
   "execution_count": 48,
   "metadata": {},
   "outputs": [
    {
     "data": {
      "text/html": [
       "<div>\n",
       "<style scoped>\n",
       "    .dataframe tbody tr th:only-of-type {\n",
       "        vertical-align: middle;\n",
       "    }\n",
       "\n",
       "    .dataframe tbody tr th {\n",
       "        vertical-align: top;\n",
       "    }\n",
       "\n",
       "    .dataframe thead th {\n",
       "        text-align: right;\n",
       "    }\n",
       "</style>\n",
       "<table border=\"1\" class=\"dataframe\">\n",
       "  <thead>\n",
       "    <tr style=\"text-align: right;\">\n",
       "      <th></th>\n",
       "      <th>Date</th>\n",
       "      <th>Sale</th>\n",
       "      <th>Total</th>\n",
       "    </tr>\n",
       "    <tr>\n",
       "      <th>Date</th>\n",
       "      <th></th>\n",
       "      <th></th>\n",
       "      <th></th>\n",
       "    </tr>\n",
       "  </thead>\n",
       "  <tbody>\n",
       "    <tr>\n",
       "      <th>2024-01-01</th>\n",
       "      <td>2024-01-01</td>\n",
       "      <td>6087</td>\n",
       "      <td>1</td>\n",
       "    </tr>\n",
       "    <tr>\n",
       "      <th>2024-01-02</th>\n",
       "      <td>2024-01-02</td>\n",
       "      <td>2243</td>\n",
       "      <td>1</td>\n",
       "    </tr>\n",
       "    <tr>\n",
       "      <th>2024-01-03</th>\n",
       "      <td>2024-01-03</td>\n",
       "      <td>9705</td>\n",
       "      <td>1</td>\n",
       "    </tr>\n",
       "    <tr>\n",
       "      <th>2024-01-04</th>\n",
       "      <td>2024-01-04</td>\n",
       "      <td>7687</td>\n",
       "      <td>1</td>\n",
       "    </tr>\n",
       "    <tr>\n",
       "      <th>2024-01-05</th>\n",
       "      <td>2024-01-05</td>\n",
       "      <td>8345</td>\n",
       "      <td>1</td>\n",
       "    </tr>\n",
       "    <tr>\n",
       "      <th>...</th>\n",
       "      <td>...</td>\n",
       "      <td>...</td>\n",
       "      <td>...</td>\n",
       "    </tr>\n",
       "    <tr>\n",
       "      <th>2024-12-27</th>\n",
       "      <td>2024-12-27</td>\n",
       "      <td>8179</td>\n",
       "      <td>1</td>\n",
       "    </tr>\n",
       "    <tr>\n",
       "      <th>2024-12-28</th>\n",
       "      <td>2024-12-28</td>\n",
       "      <td>6615</td>\n",
       "      <td>1</td>\n",
       "    </tr>\n",
       "    <tr>\n",
       "      <th>2024-12-29</th>\n",
       "      <td>2024-12-29</td>\n",
       "      <td>1534</td>\n",
       "      <td>1</td>\n",
       "    </tr>\n",
       "    <tr>\n",
       "      <th>2024-12-30</th>\n",
       "      <td>2024-12-30</td>\n",
       "      <td>5949</td>\n",
       "      <td>1</td>\n",
       "    </tr>\n",
       "    <tr>\n",
       "      <th>2024-12-31</th>\n",
       "      <td>2024-12-31</td>\n",
       "      <td>5028</td>\n",
       "      <td>1</td>\n",
       "    </tr>\n",
       "  </tbody>\n",
       "</table>\n",
       "<p>366 rows × 3 columns</p>\n",
       "</div>"
      ],
      "text/plain": [
       "                 Date  Sale  Total\n",
       "Date                              \n",
       "2024-01-01 2024-01-01  6087      1\n",
       "2024-01-02 2024-01-02  2243      1\n",
       "2024-01-03 2024-01-03  9705      1\n",
       "2024-01-04 2024-01-04  7687      1\n",
       "2024-01-05 2024-01-05  8345      1\n",
       "...               ...   ...    ...\n",
       "2024-12-27 2024-12-27  8179      1\n",
       "2024-12-28 2024-12-28  6615      1\n",
       "2024-12-29 2024-12-29  1534      1\n",
       "2024-12-30 2024-12-30  5949      1\n",
       "2024-12-31 2024-12-31  5028      1\n",
       "\n",
       "[366 rows x 3 columns]"
      ]
     },
     "execution_count": 48,
     "metadata": {},
     "output_type": "execute_result"
    }
   ],
   "source": [
    "df"
   ]
  },
  {
   "cell_type": "code",
   "execution_count": 51,
   "metadata": {},
   "outputs": [
    {
     "name": "stderr",
     "output_type": "stream",
     "text": [
      "C:\\Users\\songj\\AppData\\Local\\Temp\\ipykernel_10912\\19373274.py:1: FutureWarning: 'M' is deprecated and will be removed in a future version, please use 'ME' instead.\n",
      "  df_m = df.resample('M')['Sale'].agg(np.sum).fillna(0)\n",
      "C:\\Users\\songj\\AppData\\Local\\Temp\\ipykernel_10912\\19373274.py:1: FutureWarning: The provided callable <function sum at 0x0000023D35F04AE0> is currently using SeriesGroupBy.sum. In a future version of pandas, the provided callable will be used directly. To keep current behavior pass the string \"sum\" instead.\n",
      "  df_m = df.resample('M')['Sale'].agg(np.sum).fillna(0)\n"
     ]
    }
   ],
   "source": [
    "df_m = df.resample('M')['Sale'].agg(np.sum).fillna(0)"
   ]
  },
  {
   "cell_type": "code",
   "execution_count": 52,
   "metadata": {},
   "outputs": [
    {
     "data": {
      "text/plain": [
       "Date\n",
       "2024-01-31    160460\n",
       "2024-02-29    167850\n",
       "2024-03-31    143674\n",
       "2024-04-30    186862\n",
       "2024-05-31    148793\n",
       "2024-06-30    187847\n",
       "2024-07-31    188080\n",
       "2024-08-31    153099\n",
       "2024-09-30    175445\n",
       "2024-10-31    189384\n",
       "2024-11-30    144072\n",
       "2024-12-31    146225\n",
       "Freq: ME, Name: Sale, dtype: int32"
      ]
     },
     "execution_count": 52,
     "metadata": {},
     "output_type": "execute_result"
    }
   ],
   "source": [
    "df_m"
   ]
  },
  {
   "cell_type": "code",
   "execution_count": 60,
   "metadata": {},
   "outputs": [
    {
     "data": {
      "text/plain": [
       "pandas.core.series.Series"
      ]
     },
     "execution_count": 60,
     "metadata": {},
     "output_type": "execute_result"
    }
   ],
   "source": [
    "df_m.index\n",
    "type(df_m)"
   ]
  },
  {
   "cell_type": "code",
   "execution_count": 58,
   "metadata": {},
   "outputs": [
    {
     "name": "stderr",
     "output_type": "stream",
     "text": [
      "C:\\Users\\songj\\AppData\\Local\\Temp\\ipykernel_10912\\2876597071.py:12: UserWarning: No artists with labels found to put in legend.  Note that artists whose label start with an underscore are ignored when legend() is called with no argument.\n",
      "  plt.legend()\n"
     ]
    },
    {
     "data": {
      "image/png": "[encoded data removed]",
      "text/plain": [
       "<Figure size 640x480 with 1 Axes>"
      ]
     },
     "metadata": {},
     "output_type": "display_data"
    }
   ],
   "source": [
    "# 시각화\n",
    "\n",
    "x = df_m.index\n",
    "y = df_m\n",
    "\n",
    "plt.rc('font', family='Malgun Gothic')\n",
    "plt.plot(x, y, marker='o', linestyle='-', color='b')\n",
    "\n",
    "plt.title('월별 매출 총합')\n",
    "plt.xlabel('월')\n",
    "plt.ylabel('매출')\n",
    "plt.legend()\n",
    "\n",
    "plt.grid(True)\n",
    "plt.show()"
   ]
  },
  {
   "cell_type": "code",
   "execution_count": null,
   "metadata": {},
   "outputs": [],
   "source": []
  }
 ],
 "metadata": {
  "kernelspec": {
   "display_name": "Python 3",
   "language": "python",
   "name": "python3"
  },
  "language_info": {
   "codemirror_mode": {
    "name": "ipython",
    "version": 3
   },
   "file_extension": ".py",
   "mimetype": "text/x-python",
   "name": "python",
   "nbconvert_exporter": "python",
   "pygments_lexer": "ipython3",
   "version": "3.13.0"
  }
 },
 "nbformat": 4,
 "nbformat_minor": 2
}
