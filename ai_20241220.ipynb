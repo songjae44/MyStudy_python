{
 "cells": [
  {
   "cell_type": "markdown",
   "metadata": {},
   "source": [
    "### 전처리"
   ]
  },
  {
   "cell_type": "code",
   "execution_count": null,
   "metadata": {},
   "outputs": [],
   "source": [
    "#1. 결측치 처리 : 삭제, 치환"
   ]
  },
  {
   "cell_type": "code",
   "execution_count": 1,
   "metadata": {},
   "outputs": [],
   "source": [
    "import pandas as pd"
   ]
  },
  {
   "cell_type": "code",
   "execution_count": 2,
   "metadata": {},
   "outputs": [
    {
     "name": "stdout",
     "output_type": "stream",
     "text": [
      "    Name   Age  Score\n",
      "0  Alice  25.0   85.0\n",
      "1    Bob   NaN   90.0\n",
      "2   None  30.0    NaN\n"
     ]
    }
   ],
   "source": [
    "# 데이터프레임 생성\n",
    "data = {'Name': ['Alice', 'Bob', None],\n",
    "'Age': [25, None, 30],\n",
    "'Score': [85, 90, None]}\n",
    "df = pd.DataFrame(data)\n",
    "print(df)"
   ]
  },
  {
   "cell_type": "code",
   "execution_count": 4,
   "metadata": {},
   "outputs": [
    {
     "name": "stdout",
     "output_type": "stream",
     "text": [
      "Name     1\n",
      "Age      1\n",
      "Score    1\n",
      "dtype: int64\n"
     ]
    }
   ],
   "source": [
    "print(df.isnull().sum())"
   ]
  },
  {
   "cell_type": "code",
   "execution_count": 6,
   "metadata": {},
   "outputs": [
    {
     "name": "stdout",
     "output_type": "stream",
     "text": [
      "    Name   Age  Score\n",
      "0  Alice  25.0   85.0\n"
     ]
    }
   ],
   "source": [
    "# 결측치 제거\n",
    "df_miss_row = df.dropna()\n",
    "print(df_miss_row)"
   ]
  },
  {
   "cell_type": "code",
   "execution_count": 7,
   "metadata": {},
   "outputs": [
    {
     "name": "stdout",
     "output_type": "stream",
     "text": [
      "Empty DataFrame\n",
      "Columns: []\n",
      "Index: [0, 1, 2]\n"
     ]
    }
   ],
   "source": [
    "# 열 단위 삭제\n",
    "df_miss_col = df.dropna(axis=1)\n",
    "print(df_miss_col)"
   ]
  },
  {
   "cell_type": "code",
   "execution_count": 8,
   "metadata": {},
   "outputs": [
    {
     "name": "stdout",
     "output_type": "stream",
     "text": [
      "    Name   Age  Score\n",
      "0  Alice  25.0   85.0\n",
      "1    Bob   NaN   90.0\n",
      "2   None  30.0    NaN\n"
     ]
    }
   ],
   "source": [
    "import pandas as pd\n",
    "# 데이터프레임 생성\n",
    "data = {'Name': ['Alice', 'Bob', None],\n",
    "'Age': [25, None, 30],\n",
    "'Score': [85, 90, None]}\n",
    "df = pd.DataFrame(data)\n",
    "print(df)\n"
   ]
  },
  {
   "cell_type": "code",
   "execution_count": 9,
   "metadata": {},
   "outputs": [],
   "source": [
    "# 평균으로 결측치 대체\n",
    "df['Age'] = df['Age'].fillna(df['Age'].mean())\n",
    "\n",
    "#중간값으로 대체\n",
    "df['Score'] = df['Score'].fillna(df['Score'].median())\n",
    "\n",
    "# 최빈값으로 대체\n",
    "df['Name'] = df['Name'].fillna(df['Name'].mode()[0])"
   ]
  },
  {
   "cell_type": "code",
   "execution_count": 10,
   "metadata": {},
   "outputs": [
    {
     "name": "stdout",
     "output_type": "stream",
     "text": [
      "    Name   Age  Score\n",
      "0  Alice  25.0   85.0\n",
      "1    Bob  27.5   90.0\n",
      "2  Alice  30.0   87.5\n"
     ]
    }
   ],
   "source": [
    "print(df)"
   ]
  },
  {
   "cell_type": "code",
   "execution_count": 11,
   "metadata": {},
   "outputs": [
    {
     "name": "stdout",
     "output_type": "stream",
     "text": [
      "   Scores\n",
      "0      70\n",
      "1      75\n",
      "2      80\n",
      "3      85\n",
      "4      90\n",
      "5     150\n",
      "6     -50\n"
     ]
    }
   ],
   "source": [
    "import numpy as np\n",
    "import pandas as pd\n",
    "# 예제 데이터\n",
    "data = {'Scores': [70, 75, 80, 85, 90, 150, -50]}\n",
    "df = pd.DataFrame(data)\n",
    "\n",
    "print(df)"
   ]
  },
  {
   "cell_type": "code",
   "execution_count": 12,
   "metadata": {},
   "outputs": [],
   "source": [
    "# IQR 계산\n",
    "Q1 = df['Scores'].quantile(0.25) # 1사분위수\n",
    "Q3 = df['Scores'].quantile(0.75) # 3사분위수\n",
    "IQR = Q3 - Q1"
   ]
  },
  {
   "cell_type": "code",
   "execution_count": 16,
   "metadata": {},
   "outputs": [
    {
     "name": "stdout",
     "output_type": "stream",
     "text": [
      "50.0\n",
      "110.0\n"
     ]
    }
   ],
   "source": [
    "# 이상치 기준\n",
    "lower_bound = Q1 - 1.5 * IQR\n",
    "upper_bound = Q3 + 1.5 * IQR\n",
    "print(lower_bound)\n",
    "print(upper_bound)\n"
   ]
  },
  {
   "cell_type": "code",
   "execution_count": 14,
   "metadata": {},
   "outputs": [
    {
     "name": "stdout",
     "output_type": "stream",
     "text": [
      "   Scores\n",
      "5     150\n",
      "6     -50\n"
     ]
    }
   ],
   "source": [
    "# 이상치 확인\n",
    "outliers = df[(df['Scores'] < lower_bound) | (df['Scores'] >\n",
    "upper_bound)]\n",
    "print(outliers)"
   ]
  },
  {
   "cell_type": "code",
   "execution_count": 15,
   "metadata": {},
   "outputs": [
    {
     "name": "stdout",
     "output_type": "stream",
     "text": [
      "   Scores\n",
      "0      70\n",
      "1      75\n",
      "2      80\n",
      "3      85\n",
      "4      90\n",
      "5     110\n",
      "6      50\n"
     ]
    }
   ],
   "source": [
    "# 이상치 제거\n",
    "#df = df[(df['Scores'] >= lower_bound) & (df['Scores'] <=upper_bound)]\n",
    "#이상치 변경\n",
    "df.loc[df['Scores'] < lower_bound, 'Scores'] = lower_bound\n",
    "df.loc[df['Scores'] > upper_bound, 'Scores'] = upper_bound\n",
    "print(df)"
   ]
  },
  {
   "cell_type": "code",
   "execution_count": 2,
   "metadata": {},
   "outputs": [
    {
     "name": "stdout",
     "output_type": "stream",
     "text": [
      "    Scores   Z_Score\n",
      "5  1000000  2.236068\n",
      "   Scores   Z_Score\n",
      "0    70.0 -0.447240\n",
      "1    75.0 -0.447227\n",
      "2    80.0 -0.447214\n",
      "3    85.0 -0.447200\n",
      "4    90.0 -0.447187\n",
      "5    82.5  2.236068\n"
     ]
    },
    {
     "name": "stderr",
     "output_type": "stream",
     "text": [
      "C:\\Users\\user\\AppData\\Local\\Temp\\ipykernel_3876\\464614432.py:20: FutureWarning: Setting an item of incompatible dtype is deprecated and will raise an error in a future version of pandas. Value '82.5' has dtype incompatible with int64, please explicitly cast to a compatible dtype first.\n",
      "  df.loc[(df['Z_Score'] < -2) | (df['Z_Score'] > 2), 'Scores'] = median\n"
     ]
    }
   ],
   "source": [
    "import pandas as pd\n",
    "from scipy.stats import zscore\n",
    "\n",
    "# 예제 데이터\n",
    "data = {'Scores': [70, 75, 80, 85, 90, 1000000]}\n",
    "df = pd.DataFrame(data)\n",
    "\n",
    "# Z-Score 계산\n",
    "df['Z_Score'] = zscore(df['Scores'])\n",
    "\n",
    "# 이상치 확인\n",
    "outliers = df[(df['Z_Score'] < -2) | (df['Z_Score'] > 2)]\n",
    "print(outliers)\n",
    "\n",
    "# 이상치 제거\n",
    "#df = df[(df['Z_Score'] > -2) & (df['Z_Score'] < 2)]\n",
    "\n",
    "# 이상치를 중간값으로 대체\n",
    "median = df['Scores'].median()\n",
    "df.loc[(df['Z_Score'] < -2) | (df['Z_Score'] > 2), 'Scores'] = median\n",
    "print(df) "
   ]
  },
  {
   "cell_type": "code",
   "execution_count": 4,
   "metadata": {},
   "outputs": [
    {
     "name": "stdout",
     "output_type": "stream",
     "text": [
      "   Original  Log Transformation  Square Root Transformation\n",
      "0         1            0.693147                    1.000000\n",
      "1         4            1.609438                    2.000000\n",
      "2        16            2.833213                    4.000000\n",
      "3        36            3.610918                    6.000000\n",
      "4       100            4.615121                   10.000000\n",
      "5      1000            6.908755                   31.622777\n",
      "6     10000            9.210440                  100.000000\n"
     ]
    },
    {
     "data": {
      "image/png": "[encoded data removed]",
      "text/plain": [
       "<Figure size 1000x500 with 1 Axes>"
      ]
     },
     "metadata": {},
     "output_type": "display_data"
    }
   ],
   "source": [
    "# 데이터 변환 예제\n",
    "import numpy as np\n",
    "import pandas as pd\n",
    "import matplotlib.pyplot as plt\n",
    "\n",
    "# 예제 데이터\n",
    "data = pd.DataFrame({'Original': [1, 4, 16, 36, 100, 1000, 10000]})\n",
    "\n",
    "# 로그 변환\n",
    "data['Log Transformation'] = np.log1p(data['Original']) # log(x + 1)\n",
    "\n",
    "# 스퀘어 루트 변환\n",
    "data['Square Root Transformation'] = np.sqrt(data['Original'])\n",
    "\n",
    "print(data)\n",
    "                                                  \n",
    "# 데이터 시각화\n",
    "plt.figure(figsize=(10, 5))\n",
    "plt.plot(data['Original'], label='Original Data', marker='o')\n",
    "plt.plot(data['Log Transformation'], label='Log Transformation',\n",
    "marker='o')\n",
    "plt.plot(data['Square Root Transformation'], \n",
    "         label='Square RootTransformation', marker='o')\n",
    "plt.legend()\n",
    "plt.title('Data Transformation Example')\n",
    "plt.xlabel('Index')\n",
    "plt.ylabel('Value')\n",
    "plt.show()"
   ]
  },
  {
   "cell_type": "code",
   "execution_count": null,
   "metadata": {},
   "outputs": [
    {
     "name": "stdout",
     "output_type": "stream",
     "text": [
      "   Original  Standardized  Normalized\n",
      "0        50     -1.401826         0.0\n",
      "1        80      0.215666         0.6\n",
      "2        90      0.754829         0.8\n",
      "3       100      1.293993         1.0\n",
      "4        60     -0.862662         0.2\n"
     ]
    },
    {
     "data": {
      "image/png": "[encoded data removed]",
      "text/plain": [
       "<Figure size 1000x500 with 1 Axes>"
      ]
     },
     "metadata": {},
     "output_type": "display_data"
    }
   ],
   "source": [
    "# 데이터 스케일링(표준화, 정규화)\n",
    "\n",
    "import numpy as np\n",
    "import pandas as pd\n",
    "from sklearn.preprocessing import StandardScaler, MinMaxScaler\n",
    "import matplotlib.pyplot as plt\n",
    "\n",
    "# 데이터 생성\n",
    "data = pd.DataFrame({'Original': [50, 80, 90, 100, 60]})\n",
    "\n",
    "# 표준화\n",
    "scaler_standard = StandardScaler()\n",
    "data['Standardized'] = scaler_standard.fit_transform(data[['Original']])\n",
    "\n",
    "# 정규화\n",
    "scaler_minmax = MinMaxScaler()\n",
    "data['Normalized'] = scaler_minmax.fit_transform(data[['Original']])\n",
    "\n",
    "# 데이터 확인\n",
    "print(data)\n",
    "\n",
    "# 데이터 시각화\n",
    "plt.figure(figsize=(10, 5))\n",
    "plt.plot(data['Original'], label='Original Data', marker='o')\n",
    "plt.plot(data['Standardized'], label='Standardized Data', marker='o')\n",
    "plt.plot(data['Normalized'], label='Normalized Data', marker='o')\n",
    "plt.legend()\n",
    "plt.title('Standardization vs Normalization')\n",
    "plt.xlabel('Index')\n",
    "plt.ylabel('Value')\n",
    "plt.show()"
   ]
  },
  {
   "cell_type": "code",
   "execution_count": 2,
   "metadata": {},
   "outputs": [
    {
     "name": "stdout",
     "output_type": "stream",
     "text": [
      "  Fruits  Label Encoding  Label Encoding_0  Label Encoding_1  Label Encoding_2\n",
      "0     사과               1               0.0               1.0               0.0\n",
      "1      배               0               1.0               0.0               0.0\n",
      "2     포도               2               0.0               0.0               1.0\n",
      "3     사과               1               0.0               1.0               0.0\n",
      "4     포도               2               0.0               0.0               1.0\n"
     ]
    }
   ],
   "source": [
    "# 범주형 데이터 처리 예제(레이블 인코딩, 원-핫 인코딩)\n",
    "\n",
    "import pandas as pd\n",
    "from sklearn.preprocessing import LabelEncoder, OneHotEncoder\n",
    "\n",
    "# 데이터 생성\n",
    "data = pd.DataFrame({'Fruits': ['사과', '배', '포도', '사과', '포도']})\n",
    "\n",
    "# Step 1: 레이블 인코딩\n",
    "label_encoder = LabelEncoder()\n",
    "data['Label Encoding'] = label_encoder.fit_transform(data['Fruits'])\n",
    "\n",
    "# Step 2: 원-핫 인코딩 (OneHotEncoder 사용, sparse_output=False로 개선)\n",
    "one_hot_encoder = OneHotEncoder(sparse_output=False)\n",
    "one_hot_encoded = one_hot_encoder.fit_transform(data[['Label Encoding']])\n",
    "\n",
    "# Step 3: 결과를 DataFrame으로 변환\n",
    "one_hot_columns = one_hot_encoder.get_feature_names_out()\n",
    "one_hot_df = pd.DataFrame(one_hot_encoded, columns=one_hot_columns)\n",
    "\n",
    "# Step 4: 원래 데이터에 추가\n",
    "data = pd.concat([data, one_hot_df], axis=1)\n",
    "\n",
    "# 출력\n",
    "print(data)"
   ]
  },
  {
   "cell_type": "code",
   "execution_count": null,
   "metadata": {},
   "outputs": [],
   "source": []
  },
  {
   "cell_type": "code",
   "execution_count": null,
   "metadata": {},
   "outputs": [],
   "source": []
  }
 ],
 "metadata": {
  "kernelspec": {
   "display_name": "Python 3",
   "language": "python",
   "name": "python3"
  },
  "language_info": {
   "codemirror_mode": {
    "name": "ipython",
    "version": 3
   },
   "file_extension": ".py",
   "mimetype": "text/x-python",
   "name": "python",
   "nbconvert_exporter": "python",
   "pygments_lexer": "ipython3",
   "version": "3.13.1"
  }
 },
 "nbformat": 4,
 "nbformat_minor": 2
}
