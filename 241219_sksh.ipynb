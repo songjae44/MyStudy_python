{
 "cells": [
  {
   "cell_type": "markdown",
   "metadata": {},
   "source": [
    "# 데이터 분석 1 - 기초 분석\n",
    "### 데이터 탐색적 분석(EDA)\n",
    "### 기초 통계량 계산\n",
    "### 데이터의 기본 구조 파악"
   ]
  },
  {
   "cell_type": "markdown",
   "metadata": {},
   "source": [
    "EDA의 주요 단계"
   ]
  },
  {
   "cell_type": "code",
   "execution_count": 7,
   "metadata": {},
   "outputs": [
    {
     "name": "stdout",
     "output_type": "stream",
     "text": [
      "      Name    Age         City\n",
      "0    Alice   30.0     New York\n",
      "1      Bob   25.0  Los Angeles\n",
      "2  Charlie   35.0      Chicago\n",
      "3     King    NaN      Chicago\n",
      "4    Scott   20.0          NaN\n",
      "5     Adam    NaN          NaN\n",
      "6      Son  150.0       London\n",
      "7      Lee  -10.0       Seoul \n",
      "<class 'pandas.core.frame.DataFrame'>\n",
      "RangeIndex: 8 entries, 0 to 7\n",
      "Data columns (total 3 columns):\n",
      " #   Column  Non-Null Count  Dtype  \n",
      "---  ------  --------------  -----  \n",
      " 0   Name    8 non-null      object \n",
      " 1   Age     6 non-null      float64\n",
      " 2   City    6 non-null      object \n",
      "dtypes: float64(1), object(2)\n",
      "memory usage: 324.0+ bytes\n",
      "None\n",
      "              Age\n",
      "count    6.000000\n",
      "mean    41.666667\n",
      "std     55.377492\n",
      "min    -10.000000\n",
      "25%     21.250000\n",
      "50%     27.500000\n",
      "75%     33.750000\n",
      "max    150.000000\n"
     ]
    }
   ],
   "source": [
    "# 1 데이터의 기본 특성 이해\n",
    "\n",
    "import pandas as pd\n",
    "\n",
    "# 데이터 불러오기\n",
    "df = pd.read_csv('data.csv')\n",
    "\n",
    "# 기본 정보 확인\n",
    "print(df.head(10)) # 데이터 상위 5행 확인\n",
    "print(df.info()) # 데이터 타입과 결측치 확인\n",
    "print(df.describe()) # 수치형 데이터의 요약 통계량"
   ]
  },
  {
   "cell_type": "code",
   "execution_count": 8,
   "metadata": {},
   "outputs": [
    {
     "name": "stdout",
     "output_type": "stream",
     "text": [
      "Name    0\n",
      "Age     2\n",
      "City    2\n",
      "dtype: int64\n"
     ]
    },
    {
     "data": {
      "image/png": "[encoded data removed]",
      "text/plain": [
       "<Figure size 640x480 with 1 Axes>"
      ]
     },
     "metadata": {},
     "output_type": "display_data"
    }
   ],
   "source": [
    "# 결측치 확인\n",
    "\n",
    "print(df.isnull().sum())\n",
    "\n",
    "# 이상치 시각화 예제\n",
    "import matplotlib.pyplot as plt\n",
    "import seaborn as sns\n",
    "\n",
    "sns.boxplot(x=df['Age'])\n",
    "plt.show()"
   ]
  },
  {
   "cell_type": "code",
   "execution_count": 9,
   "metadata": {},
   "outputs": [
    {
     "data": {
      "image/png": "[encoded data removed]",
      "text/plain": [
       "<Figure size 640x480 with 1 Axes>"
      ]
     },
     "metadata": {},
     "output_type": "display_data"
    }
   ],
   "source": [
    "# 데이터 분포 확인\n",
    "# 히스토그램\n",
    "\n",
    "df['Age'].hist(bins=30)\n",
    "plt.show()"
   ]
  },
  {
   "cell_type": "code",
   "execution_count": 22,
   "metadata": {},
   "outputs": [],
   "source": [
    "# 데이터 기본 구조를 파악하는 방법\n",
    "\n",
    "# 샘플 데이터\n",
    "data = {\n",
    "'Name': ['Alice', 'Bob', 'Charlie', 'David', 'Emma', 'Alice'],\n",
    "'Age': [25, 30, None, 35, 29, 25],\n",
    "'Salary': [50000, 60000, 75000, 80000, None, 50000],\n",
    "'Department': ['HR', 'IT', 'Finance', 'IT', 'HR', 'HR']\n",
    "}\n",
    "df = pd.DataFrame(data)"
   ]
  },
  {
   "cell_type": "code",
   "execution_count": 23,
   "metadata": {},
   "outputs": [
    {
     "name": "stdout",
     "output_type": "stream",
     "text": [
      "(6, 4)\n"
     ]
    }
   ],
   "source": [
    "# 데이터 크기 확인\n",
    "print(df.shape)"
   ]
  },
  {
   "cell_type": "code",
   "execution_count": 24,
   "metadata": {},
   "outputs": [
    {
     "name": "stdout",
     "output_type": "stream",
     "text": [
      "<class 'pandas.core.frame.DataFrame'>\n",
      "RangeIndex: 6 entries, 0 to 5\n",
      "Data columns (total 4 columns):\n",
      " #   Column      Non-Null Count  Dtype  \n",
      "---  ------      --------------  -----  \n",
      " 0   Name        6 non-null      object \n",
      " 1   Age         5 non-null      float64\n",
      " 2   Salary      5 non-null      float64\n",
      " 3   Department  6 non-null      object \n",
      "dtypes: float64(2), object(2)\n",
      "memory usage: 324.0+ bytes\n",
      "None\n"
     ]
    }
   ],
   "source": [
    "# 데이터 타입 및 결측값 확인\n",
    "print(df.info())"
   ]
  },
  {
   "cell_type": "code",
   "execution_count": 25,
   "metadata": {},
   "outputs": [
    {
     "name": "stdout",
     "output_type": "stream",
     "text": [
      "             Age        Salary\n",
      "count   5.000000      5.000000\n",
      "mean   28.800000  63000.000000\n",
      "std     4.147288  13964.240044\n",
      "min    25.000000  50000.000000\n",
      "25%    25.000000  50000.000000\n",
      "50%    29.000000  60000.000000\n",
      "75%    30.000000  75000.000000\n",
      "max    35.000000  80000.000000\n"
     ]
    }
   ],
   "source": [
    "# 수치형 데이터 통계 요약\n",
    "print(df.describe())"
   ]
  },
  {
   "cell_type": "code",
   "execution_count": 26,
   "metadata": {},
   "outputs": [
    {
     "name": "stdout",
     "output_type": "stream",
     "text": [
      "Name          0\n",
      "Age           1\n",
      "Salary        1\n",
      "Department    0\n",
      "dtype: int64\n"
     ]
    }
   ],
   "source": [
    "# 결측값 확인\n",
    "print(df.isnull().sum())"
   ]
  },
  {
   "cell_type": "code",
   "execution_count": 27,
   "metadata": {},
   "outputs": [
    {
     "name": "stdout",
     "output_type": "stream",
     "text": [
      "    Name    Age  Salary  Department\n",
      "0  False  False   False       False\n",
      "1  False  False   False       False\n",
      "2  False   True   False       False\n",
      "3  False  False   False       False\n",
      "4  False  False    True       False\n",
      "5  False  False   False       False\n"
     ]
    }
   ],
   "source": [
    "print(df.isnull())"
   ]
  },
  {
   "cell_type": "code",
   "execution_count": 28,
   "metadata": {},
   "outputs": [
    {
     "data": {
      "text/html": [
       "<div>\n",
       "<style scoped>\n",
       "    .dataframe tbody tr th:only-of-type {\n",
       "        vertical-align: middle;\n",
       "    }\n",
       "\n",
       "    .dataframe tbody tr th {\n",
       "        vertical-align: top;\n",
       "    }\n",
       "\n",
       "    .dataframe thead th {\n",
       "        text-align: right;\n",
       "    }\n",
       "</style>\n",
       "<table border=\"1\" class=\"dataframe\">\n",
       "  <thead>\n",
       "    <tr style=\"text-align: right;\">\n",
       "      <th></th>\n",
       "      <th>Name</th>\n",
       "      <th>Age</th>\n",
       "      <th>Salary</th>\n",
       "      <th>Department</th>\n",
       "    </tr>\n",
       "  </thead>\n",
       "  <tbody>\n",
       "    <tr>\n",
       "      <th>0</th>\n",
       "      <td>Alice</td>\n",
       "      <td>25.0</td>\n",
       "      <td>50000.0</td>\n",
       "      <td>HR</td>\n",
       "    </tr>\n",
       "    <tr>\n",
       "      <th>1</th>\n",
       "      <td>Bob</td>\n",
       "      <td>30.0</td>\n",
       "      <td>60000.0</td>\n",
       "      <td>IT</td>\n",
       "    </tr>\n",
       "    <tr>\n",
       "      <th>2</th>\n",
       "      <td>Charlie</td>\n",
       "      <td>NaN</td>\n",
       "      <td>75000.0</td>\n",
       "      <td>Finance</td>\n",
       "    </tr>\n",
       "    <tr>\n",
       "      <th>3</th>\n",
       "      <td>David</td>\n",
       "      <td>35.0</td>\n",
       "      <td>80000.0</td>\n",
       "      <td>IT</td>\n",
       "    </tr>\n",
       "    <tr>\n",
       "      <th>4</th>\n",
       "      <td>Emma</td>\n",
       "      <td>29.0</td>\n",
       "      <td>NaN</td>\n",
       "      <td>HR</td>\n",
       "    </tr>\n",
       "    <tr>\n",
       "      <th>5</th>\n",
       "      <td>Alice</td>\n",
       "      <td>25.0</td>\n",
       "      <td>50000.0</td>\n",
       "      <td>HR</td>\n",
       "    </tr>\n",
       "  </tbody>\n",
       "</table>\n",
       "</div>"
      ],
      "text/plain": [
       "      Name   Age   Salary Department\n",
       "0    Alice  25.0  50000.0         HR\n",
       "1      Bob  30.0  60000.0         IT\n",
       "2  Charlie   NaN  75000.0    Finance\n",
       "3    David  35.0  80000.0         IT\n",
       "4     Emma  29.0      NaN         HR\n",
       "5    Alice  25.0  50000.0         HR"
      ]
     },
     "execution_count": 28,
     "metadata": {},
     "output_type": "execute_result"
    }
   ],
   "source": [
    "df"
   ]
  },
  {
   "cell_type": "code",
   "execution_count": 29,
   "metadata": {},
   "outputs": [
    {
     "name": "stdout",
     "output_type": "stream",
     "text": [
      "Name           object\n",
      "Age           float64\n",
      "Salary        float64\n",
      "Department     object\n",
      "dtype: object\n"
     ]
    }
   ],
   "source": [
    "# 데이터 타입 확인\n",
    "print(df.dtypes)"
   ]
  },
  {
   "cell_type": "code",
   "execution_count": 30,
   "metadata": {},
   "outputs": [
    {
     "name": "stdout",
     "output_type": "stream",
     "text": [
      "1\n"
     ]
    }
   ],
   "source": [
    "# 중복값 확인\n",
    "# 0 = 중복값 없음\n",
    "print(df.duplicated().sum())"
   ]
  },
  {
   "cell_type": "code",
   "execution_count": 1,
   "metadata": {},
   "outputs": [],
   "source": [
    "# 파이썬을 활용한 기초 통계량 계산\n",
    "\n",
    "# 데이터 준비\n",
    "import pandas as pd\n",
    "# 예제 데이터\n",
    "data = {\n",
    "'scores': [85, 90, 78, 92, 88, 76, 95, 89, 77, 85]\n",
    "}\n",
    "df = pd.DataFrame(data)"
   ]
  },
  {
   "cell_type": "code",
   "execution_count": 4,
   "metadata": {},
   "outputs": [
    {
     "name": "stdout",
     "output_type": "stream",
     "text": [
      "평균: 85.5\n",
      "중앙값: 86.5\n",
      "최빈값: 85\n",
      "분산: 43.388888888888886\n",
      "표준편차: 6.587024281789835\n",
      "최고값: 95, 최소값: 76\n",
      "범위: 19\n"
     ]
    }
   ],
   "source": [
    "# 주요 통계량 계산\n",
    "\n",
    "# 평균\n",
    "mean = df['scores'].mean()\n",
    "print(f\"평균: {mean}\")\n",
    "\n",
    "# 중앙값\n",
    "median = df['scores'].median()\n",
    "print(f\"중앙값: {median}\")\n",
    "\n",
    "# 최빈값\n",
    "mode = df['scores'].mode()[0]\n",
    "print(f\"최빈값: {mode}\")\n",
    "\n",
    "# 분산\n",
    "variance = df['scores'].var()\n",
    "print(f\"분산: {variance}\")\n",
    "\n",
    "# 표준편차\n",
    "std_dev = df['scores'].std()\n",
    "print(f\"표준편차: {std_dev}\")\n",
    "\n",
    "# 최고값, 최소값\n",
    "max = df['scores'].max()\n",
    "min = df['scores'].min()\n",
    "print(f'최고값: {max}, 최소값: {min}')\n",
    "\n",
    "# 범위\n",
    "range_value = df['scores'].max() - df['scores'].min()\n",
    "print(f\"범위: {range_value}\")"
   ]
  },
  {
   "cell_type": "code",
   "execution_count": 3,
   "metadata": {},
   "outputs": [
    {
     "name": "stdout",
     "output_type": "stream",
     "text": [
      "왜곡도: -0.2507955722436133\n",
      "첨도: -1.225550486014679\n"
     ]
    }
   ],
   "source": [
    "# 데이터 분포 특성 계산\n",
    "\n",
    "from scipy.stats import skew, kurtosis\n",
    "\n",
    "# 왜도\n",
    "skewness = skew(df['scores'])\n",
    "print(f\"왜곡도: {skewness}\")\n",
    "\n",
    "# 첨도\n",
    "kurt = kurtosis(df['scores'])\n",
    "print(f\"첨도: {kurt}\")"
   ]
  },
  {
   "cell_type": "markdown",
   "metadata": {},
   "source": [
    "# 데이터 분석 2 - 그룹화와 집계\n",
    "#### 그룹별 집계와 피벗 테이블 생성\n",
    "#### 데이터 간 비교 분석"
   ]
  },
  {
   "cell_type": "code",
   "execution_count": 5,
   "metadata": {},
   "outputs": [
    {
     "name": "stdout",
     "output_type": "stream",
     "text": [
      "Department\n",
      "Finance    65000.0\n",
      "HR         52500.0\n",
      "IT         65000.0\n",
      "Name: Salary, dtype: float64\n"
     ]
    }
   ],
   "source": [
    "# 그룹별 집계\n",
    "\n",
    "# 샘플 데이터\n",
    "data = {\n",
    "'Name': ['Alice', 'Bob', 'Charlie', 'David', 'Eva'],\n",
    "'Department': ['HR', 'IT', 'HR', 'IT', 'Finance'],\n",
    "'Salary': [50000, 60000, 55000, 70000, 65000]\n",
    "}\n",
    "df = pd.DataFrame(data)\n",
    "\n",
    "# 그룹화 및 집계: 부서별 평균 급여 계산\n",
    "grouped = df.groupby('Department')['Salary'].mean()\n",
    "print(grouped)"
   ]
  },
  {
   "cell_type": "code",
   "execution_count": 6,
   "metadata": {},
   "outputs": [
    {
     "name": "stdout",
     "output_type": "stream",
     "text": [
      "             Salary\n",
      "Department         \n",
      "Finance     65000.0\n",
      "HR          52500.0\n",
      "IT          65000.0\n",
      "               mean     sum\n",
      "             Salary  Salary\n",
      "Department                 \n",
      "Finance     65000.0   65000\n",
      "HR          52500.0  105000\n",
      "IT          65000.0  130000\n"
     ]
    }
   ],
   "source": [
    "# 피벗 테이블\n",
    "\n",
    "# 같은 데이터프레임을 사용\n",
    "# 피벗 테이블 생성: 부서별 평균 급여 계산\n",
    "pivot_table = pd.pivot_table(df,\n",
    "values='Salary', index='Department', aggfunc='mean')\n",
    "print(pivot_table)\n",
    "pivot_table = pd.pivot_table(df, values='Salary',\n",
    "                             index='Department', aggfunc=['mean', 'sum'])\n",
    "print(pivot_table)\n"
   ]
  },
  {
   "cell_type": "code",
   "execution_count": 7,
   "metadata": {},
   "outputs": [],
   "source": [
    "# 예제\n",
    "\n",
    "# 데이터 생성\n",
    "data = {\n",
    "'City': ['Seoul', 'Seoul', 'Busan', 'Busan',\n",
    "'Daegu'],\n",
    "'Year': [2021, 2022, 2021, 2022, 2021],\n",
    "'Sales': [500, 700, 200, 300, 400]\n",
    "}\n",
    "df = pd.DataFrame(data)"
   ]
  },
  {
   "cell_type": "code",
   "execution_count": 11,
   "metadata": {},
   "outputs": [
    {
     "name": "stdout",
     "output_type": "stream",
     "text": [
      "City\n",
      "Busan    250.0\n",
      "Daegu    400.0\n",
      "Seoul    600.0\n",
      "Name: Sales, dtype: float64\n"
     ]
    }
   ],
   "source": [
    "# 그룹화와 집계\n",
    "grouped = df.groupby('City')['Sales'].mean()\n",
    "print(grouped)"
   ]
  },
  {
   "cell_type": "code",
   "execution_count": 12,
   "metadata": {},
   "outputs": [
    {
     "name": "stdout",
     "output_type": "stream",
     "text": [
      "        mean   sum median\n",
      "       Sales Sales  Sales\n",
      "City                     \n",
      "Busan  250.0   500  250.0\n",
      "Daegu  400.0   400  400.0\n",
      "Seoul  600.0  1200  600.0\n"
     ]
    }
   ],
   "source": [
    "# 피벗테이블 생성\n",
    "pivot_table = pd.pivot_table(df, values='Sales', index='City', aggfunc=['mean', 'sum', 'median'])\n",
    "print(pivot_table)"
   ]
  },
  {
   "cell_type": "code",
   "execution_count": 13,
   "metadata": {},
   "outputs": [
    {
     "name": "stdout",
     "output_type": "stream",
     "text": [
      "Dataset 1:\n",
      "             Sales\n",
      "count    4.000000\n",
      "mean   187.500000\n",
      "std     85.391256\n",
      "min    100.000000\n",
      "25%    137.500000\n",
      "50%    175.000000\n",
      "75%    225.000000\n",
      "max    300.000000\n",
      "Dataset 2:\n",
      "             Sales\n",
      "count    4.000000\n",
      "mean   195.000000\n",
      "std     59.721576\n",
      "min    120.000000\n",
      "25%    165.000000\n",
      "50%    200.000000\n",
      "75%    230.000000\n",
      "max    260.000000\n"
     ]
    }
   ],
   "source": [
    "# 기술 통계 비교\n",
    "\n",
    "# 샘플 데이터\n",
    "data1 = {'Sales': [100, 200, 150, 300]}\n",
    "data2 = {'Sales': [120, 220, 180, 260]}\n",
    "df1 = pd.DataFrame(data1, columns=['Sales'])\n",
    "df2 = pd.DataFrame(data2, columns=['Sales'])\n",
    "# 기술 통계 계산\n",
    "print(\"Dataset 1:\\n\", df1.describe())\n",
    "print(\"Dataset 2:\\n\", df2.describe())"
   ]
  },
  {
   "cell_type": "code",
   "execution_count": 15,
   "metadata": {},
   "outputs": [
    {
     "data": {
      "image/png": "[encoded data removed]",
      "text/plain": [
       "<Figure size 640x480 with 1 Axes>"
      ]
     },
     "metadata": {},
     "output_type": "display_data"
    }
   ],
   "source": [
    "# 시각화 비교\n",
    "import matplotlib.pyplot as plt\n",
    "\n",
    "# 데이터\n",
    "x = ['Q1', 'Q2', 'Q3', 'Q4']\n",
    "y1 = [100, 200, 150, 300]\n",
    "y2 = [120, 220, 180, 260]\n",
    "# 그래프 생성\n",
    "plt.plot(x, y1, label='Dataset 1', marker='o')\n",
    "plt.plot(x, y2, label='Dataset 2', marker='o')\n",
    "plt.title('Quarterly Sales Comparison')\n",
    "plt.xlabel('Quarter')\n",
    "plt.ylabel('Sales')\n",
    "plt.legend()\n",
    "plt.show()"
   ]
  },
  {
   "cell_type": "code",
   "execution_count": 19,
   "metadata": {},
   "outputs": [
    {
     "name": "stdout",
     "output_type": "stream",
     "text": [
      "Correlation Coefficient: 0.9641089191635356\n"
     ]
    }
   ],
   "source": [
    "# 상관 관계 분석\n",
    "\n",
    "import numpy as np\n",
    "\n",
    "# 데이터\n",
    "dataset1 = [100, 200, 150, 300]\n",
    "dataset2 = [120, 220, 180, 260]\n",
    "# 상관 계수 계산,\n",
    "# 양의 상관 관계: 키가 커질수록 몸무게가 증가하는 경우.\n",
    "correlation = np.corrcoef(dataset1, dataset2)[0, 1]\n",
    "print(f\"Correlation Coefficient: {correlation}\")\n"
   ]
  },
  {
   "cell_type": "code",
   "execution_count": 20,
   "metadata": {},
   "outputs": [
    {
     "name": "stdout",
     "output_type": "stream",
     "text": [
      "Difference between datasets: [20, 20, 30, -40]\n"
     ]
    }
   ],
   "source": [
    "# 차이 분석\n",
    "\n",
    "# 데이터\n",
    "dataset1 = [100, 200, 150, 300]\n",
    "dataset2 = [120, 220, 180, 260]\n",
    "\n",
    "# 데이터 차이 계산\n",
    "difference = [b - a for a, b in zip(dataset1, dataset2)]\n",
    "print(\"Difference between datasets:\", difference)"
   ]
  },
  {
   "cell_type": "code",
   "execution_count": 21,
   "metadata": {},
   "outputs": [
    {
     "name": "stdout",
     "output_type": "stream",
     "text": [
      "Year    2021  2022\n",
      "Region            \n",
      "East    1100   700\n",
      "West     200   300\n"
     ]
    }
   ],
   "source": [
    "# 피벗 테이블 비교\n",
    "\n",
    "# 데이터\n",
    "data = {\n",
    "'Region': ['East', 'East', 'West', 'West', 'East'],\n",
    "'Year': [2021, 2022, 2021, 2022, 2021],\n",
    "'Sales': [500, 700, 200, 300, 600]\n",
    "}\n",
    "df = pd.DataFrame(data)\n",
    "pivot = pd.pivot_table(df, values='Sales',\n",
    "index='Region', columns='Year', aggfunc='sum')\n",
    "print(pivot)\n"
   ]
  },
  {
   "cell_type": "code",
   "execution_count": null,
   "metadata": {},
   "outputs": [],
   "source": []
  },
  {
   "cell_type": "code",
   "execution_count": null,
   "metadata": {},
   "outputs": [],
   "source": []
  },
  {
   "cell_type": "code",
   "execution_count": null,
   "metadata": {},
   "outputs": [],
   "source": []
  },
  {
   "cell_type": "code",
   "execution_count": null,
   "metadata": {},
   "outputs": [],
   "source": []
  }
 ],
 "metadata": {
  "kernelspec": {
   "display_name": "Python 3",
   "language": "python",
   "name": "python3"
  },
  "language_info": {
   "codemirror_mode": {
    "name": "ipython",
    "version": 3
   },
   "file_extension": ".py",
   "mimetype": "text/x-python",
   "name": "python",
   "nbconvert_exporter": "python",
   "pygments_lexer": "ipython3",
   "version": "3.13.0"
  }
 },
 "nbformat": 4,
 "nbformat_minor": 2
}
