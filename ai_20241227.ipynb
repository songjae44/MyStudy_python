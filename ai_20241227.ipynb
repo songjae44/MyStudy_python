{
 "cells": [
  {
   "cell_type": "code",
   "execution_count": 3,
   "metadata": {},
   "outputs": [],
   "source": [
    "# 1. 필요한 라이브러리 임포트\n",
    "# TensorFlow와 Keras의 기능을 사용하기 위해 필요한 모듈을 불러옵니다.\n",
    "import numpy as np\n",
    "from tensorflow.keras.models import Sequential # 순차적 모델을 생성하기 위한 모듈\n",
    "from tensorflow.keras.layers import Dense # 밀집층(fully connected layer)을 추가하기 위한 모듈\n",
    "from sklearn.model_selection import train_test_split # 데이터를 학습/테스트 세트로 나누기 위한 모듈\n",
    "from sklearn.datasets import make_classification # 예제 데이터셋 생성 모듈"
   ]
  },
  {
   "cell_type": "code",
   "execution_count": 4,
   "metadata": {},
   "outputs": [],
   "source": [
    "# 2. 데이터 생성 및 전처리\n",
    "# 예제용으로 가상 데이터셋을 생성합니다.\n",
    "X, y = make_classification(\n",
    "n_samples=1000, # 데이터 샘플 수\n",
    "n_features=20, # 특징(특성) 수\n",
    "n_classes=2, # 클래스 수 (이진 분류)\n",
    "random_state=42 # 랜덤 시드 고정 (결과 재현 가능성 보장)\n",
    ")\n",
    "# 데이터를 학습용(train)과 테스트용(test)으로 나눕니다.\n",
    "X_train, X_test, y_train, y_test = train_test_split(X, y, test_size=0.2, \n",
    "                                                    random_state=42)"
   ]
  },
  {
   "cell_type": "code",
   "execution_count": 5,
   "metadata": {},
   "outputs": [
    {
     "name": "stderr",
     "output_type": "stream",
     "text": [
      "c:\\Users\\user\\AppData\\Local\\Programs\\Python\\Python312\\Lib\\site-packages\\keras\\src\\layers\\core\\dense.py:87: UserWarning: Do not pass an `input_shape`/`input_dim` argument to a layer. When using Sequential models, prefer using an `Input(shape)` object as the first layer in the model instead.\n",
      "  super().__init__(activity_regularizer=activity_regularizer, **kwargs)\n"
     ]
    }
   ],
   "source": [
    "# 3. 모델 생성\n",
    "# Sequential()은 모델을 레이어 순서대로 구성할 수 있도록 해줍니다.\n",
    "model = Sequential([\n",
    "    Dense(16, activation='relu', input_shape=(X_train.shape[1],)), # 첫 번째 은닉층\n",
    "    Dense(8, activation='relu'), # 두 번째 은닉층\n",
    "    Dense(1, activation='sigmoid') # 출력층 (이진 분류에서 사용)\n",
    "])\n",
    "# 여기서 input_shape는 입력 데이터의 차원을 지정합니다.\n",
    "# activation은 각 층에서 사용할 활성화 함수입니다.\n",
    "# - relu: 0보다 큰 값은 그대로 두고, 작은 값은 0으로 설정 (비선형성 제공)\n",
    "# - sigmoid: 출력값을 0과 1 사이로 제한 (이진 분류에서 확률 계산에 유용)"
   ]
  },
  {
   "cell_type": "code",
   "execution_count": 6,
   "metadata": {},
   "outputs": [],
   "source": [
    "# 4. 모델 컴파일\n",
    "# 모델 학습 전에 학습 방법(optimizer), 손실 함수(loss), 평가 지표(metrics)를 정의합니다.\n",
    "model.compile(\n",
    "    optimizer='adam', # 학습 속도를 조정하며 손실 함수의 최솟값을 찾습니다.\n",
    "    loss='binary_crossentropy', # 이진 분류에서 자주 사용되는 손실 함수\n",
    "    metrics=['accuracy'] # 학습 성과를 평가할 지표\n",
    ")"
   ]
  },
  {
   "cell_type": "code",
   "execution_count": 7,
   "metadata": {},
   "outputs": [
    {
     "name": "stdout",
     "output_type": "stream",
     "text": [
      "Epoch 1/10\n",
      "\u001b[1m20/20\u001b[0m \u001b[32m━━━━━━━━━━━━━━━━━━━━\u001b[0m\u001b[37m\u001b[0m \u001b[1m1s\u001b[0m 9ms/step - accuracy: 0.3964 - loss: 0.7814 - val_accuracy: 0.4688 - val_loss: 0.7468\n",
      "Epoch 2/10\n",
      "\u001b[1m20/20\u001b[0m \u001b[32m━━━━━━━━━━━━━━━━━━━━\u001b[0m\u001b[37m\u001b[0m \u001b[1m0s\u001b[0m 4ms/step - accuracy: 0.4667 - loss: 0.7165 - val_accuracy: 0.5188 - val_loss: 0.6990\n",
      "Epoch 3/10\n",
      "\u001b[1m20/20\u001b[0m \u001b[32m━━━━━━━━━━━━━━━━━━━━\u001b[0m\u001b[37m\u001b[0m \u001b[1m0s\u001b[0m 4ms/step - accuracy: 0.5676 - loss: 0.6699 - val_accuracy: 0.6125 - val_loss: 0.6590\n",
      "Epoch 4/10\n",
      "\u001b[1m20/20\u001b[0m \u001b[32m━━━━━━━━━━━━━━━━━━━━\u001b[0m\u001b[37m\u001b[0m \u001b[1m0s\u001b[0m 4ms/step - accuracy: 0.6402 - loss: 0.6283 - val_accuracy: 0.6625 - val_loss: 0.6264\n",
      "Epoch 5/10\n",
      "\u001b[1m20/20\u001b[0m \u001b[32m━━━━━━━━━━━━━━━━━━━━\u001b[0m\u001b[37m\u001b[0m \u001b[1m0s\u001b[0m 4ms/step - accuracy: 0.7090 - loss: 0.5796 - val_accuracy: 0.7250 - val_loss: 0.5935\n",
      "Epoch 6/10\n",
      "\u001b[1m20/20\u001b[0m \u001b[32m━━━━━━━━━━━━━━━━━━━━\u001b[0m\u001b[37m\u001b[0m \u001b[1m0s\u001b[0m 4ms/step - accuracy: 0.7645 - loss: 0.5538 - val_accuracy: 0.7625 - val_loss: 0.5609\n",
      "Epoch 7/10\n",
      "\u001b[1m20/20\u001b[0m \u001b[32m━━━━━━━━━━━━━━━━━━━━\u001b[0m\u001b[37m\u001b[0m \u001b[1m0s\u001b[0m 4ms/step - accuracy: 0.7877 - loss: 0.5164 - val_accuracy: 0.7750 - val_loss: 0.5291\n",
      "Epoch 8/10\n",
      "\u001b[1m20/20\u001b[0m \u001b[32m━━━━━━━━━━━━━━━━━━━━\u001b[0m\u001b[37m\u001b[0m \u001b[1m0s\u001b[0m 3ms/step - accuracy: 0.7757 - loss: 0.5057 - val_accuracy: 0.7937 - val_loss: 0.4965\n",
      "Epoch 9/10\n",
      "\u001b[1m20/20\u001b[0m \u001b[32m━━━━━━━━━━━━━━━━━━━━\u001b[0m\u001b[37m\u001b[0m \u001b[1m0s\u001b[0m 3ms/step - accuracy: 0.8634 - loss: 0.4298 - val_accuracy: 0.8062 - val_loss: 0.4669\n",
      "Epoch 10/10\n",
      "\u001b[1m20/20\u001b[0m \u001b[32m━━━━━━━━━━━━━━━━━━━━\u001b[0m\u001b[37m\u001b[0m \u001b[1m0s\u001b[0m 4ms/step - accuracy: 0.8539 - loss: 0.4261 - val_accuracy: 0.8562 - val_loss: 0.4382\n"
     ]
    }
   ],
   "source": [
    "# 5. 모델 훈련\n",
    "# fit() 메서드는 모델을 학습시키는 역할을 합니다.\n",
    "history = model.fit(\n",
    "    X_train, y_train, # 학습용 데이터와 레이블\n",
    "    validation_split=0.2, # 검증 데이터 비율 (학습 데이터의 20%)\n",
    "    epochs=10, # 학습 반복 횟수\n",
    "    batch_size=32, # 한 번의 학습에서 사용하는 데이터 샘플 수\n",
    "    verbose=1 # 학습 진행 상태를 출력\n",
    ")"
   ]
  },
  {
   "cell_type": "code",
   "execution_count": 8,
   "metadata": {},
   "outputs": [
    {
     "name": "stdout",
     "output_type": "stream",
     "text": [
      "\u001b[1m7/7\u001b[0m \u001b[32m━━━━━━━━━━━━━━━━━━━━\u001b[0m\u001b[37m\u001b[0m \u001b[1m0s\u001b[0m 3ms/step - accuracy: 0.7910 - loss: 0.4575 \n",
      "테스트 손실: 0.4382, 테스트 정확도: 0.8050\n",
      "\u001b[1m1/1\u001b[0m \u001b[32m━━━━━━━━━━━━━━━━━━━━\u001b[0m\u001b[37m\u001b[0m \u001b[1m0s\u001b[0m 41ms/step\n",
      "예측 결과: [[0.35702732]\n",
      " [0.35385713]\n",
      " [0.55052054]\n",
      " [0.41421616]\n",
      " [0.80178857]]\n"
     ]
    }
   ],
   "source": [
    "# 6. 모델 평가\n",
    "# 테스트 데이터로 학습된 모델을 평가합니다.\n",
    "test_loss, test_accuracy = model.evaluate(X_test, y_test)\n",
    "print(f\"테스트 손실: {test_loss:.4f}, 테스트 정확도: {test_accuracy:.4f}\")\n",
    "# 7. 모델 예측\n",
    "# 학습된 모델을 사용해 새로운 데이터 예측\n",
    "predictions = model.predict(X_test[:5]) # 테스트 데이터 중 5개의 샘플 예측\n",
    "print(\"예측 결과:\", predictions)\n",
    "# 여기서 predictions의 출력은 확률 값입니다.\n",
    "# 일반적으로 0.5 이상은 클래스 1, 미만은 클래스 0으로 간주합니다."
   ]
  },
  {
   "cell_type": "code",
   "execution_count": null,
   "metadata": {},
   "outputs": [],
   "source": []
  }
 ],
 "metadata": {
  "kernelspec": {
   "display_name": "Python 3",
   "language": "python",
   "name": "python3"
  },
  "language_info": {
   "codemirror_mode": {
    "name": "ipython",
    "version": 3
   },
   "file_extension": ".py",
   "mimetype": "text/x-python",
   "name": "python",
   "nbconvert_exporter": "python",
   "pygments_lexer": "ipython3",
   "version": "3.12.8"
  }
 },
 "nbformat": 4,
 "nbformat_minor": 2
}
