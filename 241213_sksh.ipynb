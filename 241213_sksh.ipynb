{
 "cells": [
  {
   "cell_type": "code",
   "execution_count": 2,
   "metadata": {},
   "outputs": [
    {
     "data": {
      "text/plain": [
       "[3, 6, 9, 12]"
      ]
     },
     "execution_count": 2,
     "metadata": {},
     "output_type": "execute_result"
    }
   ],
   "source": [
    "# 리스트 컴프리헨션 중요!\n",
    "# 리스트 안에 for문 포함하기\n",
    "\n",
    "a = [1, 2, 3, 4]\n",
    "result = [num*3 for num in a]\n",
    "result"
   ]
  },
  {
   "cell_type": "code",
   "execution_count": 3,
   "metadata": {},
   "outputs": [
    {
     "data": {
      "text/plain": [
       "[11, 12, 13, 14, 15]"
      ]
     },
     "execution_count": 3,
     "metadata": {},
     "output_type": "execute_result"
    }
   ],
   "source": [
    "b = [1, 2, 3, 4, 5]\n",
    "c = [num+10 for num in b]\n",
    "c"
   ]
  },
  {
   "cell_type": "code",
   "execution_count": 5,
   "metadata": {},
   "outputs": [
    {
     "data": {
      "text/plain": [
       "[6, 12]"
      ]
     },
     "execution_count": 5,
     "metadata": {},
     "output_type": "execute_result"
    }
   ],
   "source": [
    "# 리스트 컴프리헨션\n",
    "# 리스트 안에 if 조건문 사용 가능\n",
    "\n",
    "result = [num*3 for num in a if num%2 == 0]\n",
    "result"
   ]
  },
  {
   "cell_type": "code",
   "execution_count": 6,
   "metadata": {},
   "outputs": [
    {
     "data": {
      "text/plain": [
       "5050"
      ]
     },
     "execution_count": 6,
     "metadata": {},
     "output_type": "execute_result"
    }
   ],
   "source": [
    "# 1부터 100까지 합을 구하는 코드작성\n",
    "\n",
    "sum = 0\n",
    "for i in range(1, 101):\n",
    "    sum += i\n",
    "sum"
   ]
  },
  {
   "cell_type": "code",
   "execution_count": 7,
   "metadata": {},
   "outputs": [
    {
     "data": {
      "text/plain": [
       "3628800"
      ]
     },
     "execution_count": 7,
     "metadata": {},
     "output_type": "execute_result"
    }
   ],
   "source": [
    "# for문을 이용하여 1부터 10까지 곱한 결과를 출력하는 프로그램 작성\n",
    "\n",
    "x = 1\n",
    "for i in range(1, 11):\n",
    "    x *= i\n",
    "x"
   ]
  },
  {
   "cell_type": "code",
   "execution_count": 9,
   "metadata": {},
   "outputs": [
    {
     "name": "stdout",
     "output_type": "stream",
     "text": [
      "2단\n",
      "2 x 1 = 2, 2 x 2 = 4\n",
      "4단\n",
      "4 x 1 = 4, 4 x 2 = 8, 4 x 3 = 12, 4 x 4 = 16\n",
      "6단\n",
      "6 x 1 = 6, 6 x 2 = 12, 6 x 3 = 18, 6 x 4 = 24, 6 x 5 = 30, 6 x 6 = 36\n",
      "8단\n",
      "8 x 1 = 8, 8 x 2 = 16, 8 x 3 = 24, 8 x 4 = 32, 8 x 5 = 40, 8 x 6 = 48, 8 x 7 = 56, 8 x 8 = 64\n"
     ]
    }
   ],
   "source": [
    "# 구구단의 짝수 단만 출력 하는 프로그램 작성\n",
    "# 단, 2단은 2x2, 4단은 4x4, 6단은 6x6, 8단은 8x8까지 출력\n",
    "\n",
    "for i in range(1, 10):\n",
    "    if i%2 == 0:\n",
    "        print(f'{i}단')\n",
    "        for j in range(1, i+1):\n",
    "            if j == i:\n",
    "                print(f'{i} x {j} = {i*j}')\n",
    "            else:\n",
    "                print(f'{i} x {j} = {i*j}', end=', ')\n",
    "    else:\n",
    "        continue"
   ]
  },
  {
   "cell_type": "code",
   "execution_count": 16,
   "metadata": {},
   "outputs": [
    {
     "name": "stdout",
     "output_type": "stream",
     "text": [
      "언제 합이 1000을 넘어서는가? : 56을 더한 시점\n",
      "넘어선 순간 총 합은? : 1055\n"
     ]
    }
   ],
   "source": [
    "# while문을 무한 루프로 구성하여 작성하는 예제\n",
    "# 1부터 시작해서 모든 짝수와 3의 배수를 더해서 그 합이 언제 1000을 넘어서는지,\n",
    "# 그리고 1000이 넘어선 값은 얼마가 되는지 출력\n",
    "\n",
    "sum = 0\n",
    "num = 1\n",
    "while True:\n",
    "    if num%2==0 or num%3==0:\n",
    "        sum+=num\n",
    "        \n",
    "    if sum > 1000:\n",
    "        break\n",
    "    num+=1\n",
    "print(f'언제 합이 1000을 넘어서는가? : {num}을 더한 시점')\n",
    "print(f'넘어선 순간 총 합은? : {sum}')"
   ]
  },
  {
   "cell_type": "code",
   "execution_count": 15,
   "metadata": {},
   "outputs": [
    {
     "name": "stdout",
     "output_type": "stream",
     "text": [
      "999 54\n"
     ]
    }
   ],
   "source": [
    "sum = 0\n",
    "num = 0\n",
    "for i in range(1, 55):\n",
    "    if i%2==0 or i%3==0:\n",
    "        sum+=i\n",
    "    num = i\n",
    "print(sum, num)"
   ]
  },
  {
   "cell_type": "markdown",
   "metadata": {},
   "source": [
    "# 함수\n",
    "- 데이터 받고 처리하고 결과를 반환하는 코드들의 집합\n",
    "- 중복되는 코드들을 하나 묶어 사용, 생산성 up, 유지보수 용이\n",
    "### 파이썬 함수의 구조\n",
    "- def : 함수를 만들 때 사용하는 예약어\n",
    "- 함수이름은 임의로 생성 가능\n",
    "- 매개변수는 함수에 입력 전달되는 값을 받는 변수\n",
    "- return : 함수의 결고 값(리턴 값)을 돌려주는 명령어"
   ]
  },
  {
   "cell_type": "markdown",
   "metadata": {},
   "source": [
    "함수 형태\n",
    "```python\n",
    "def sum(a, b):\n",
    "    return a+b\n",
    "```\n",
    "- sum : 함수 이름\n",
    "- a, b : 매개 변수\n",
    "- return a + b : 수행할 문장"
   ]
  },
  {
   "cell_type": "code",
   "execution_count": 1,
   "metadata": {},
   "outputs": [],
   "source": [
    "def add(n1, n2):\n",
    "    return n1 + n2"
   ]
  },
  {
   "cell_type": "code",
   "execution_count": 3,
   "metadata": {},
   "outputs": [
    {
     "name": "stdout",
     "output_type": "stream",
     "text": [
      "<class 'function'>\n"
     ]
    }
   ],
   "source": [
    "print(type(add))\n",
    "# 파이썬에서 함수도 객체로 인식\n"
   ]
  },
  {
   "cell_type": "code",
   "execution_count": 1,
   "metadata": {},
   "outputs": [],
   "source": [
    "# 매개변수가 여러개인데 몇개인지 모를 때\n",
    "def add_sum(*args):\n",
    "    print(type(args))\n",
    "    print(args)\n",
    "    sum = 0\n",
    "    for num in args:\n",
    "        sum += num\n",
    "    return sum"
   ]
  },
  {
   "cell_type": "code",
   "execution_count": 2,
   "metadata": {},
   "outputs": [
    {
     "name": "stdout",
     "output_type": "stream",
     "text": [
      "<class 'tuple'>\n",
      "(1, 2, 3, 4)\n"
     ]
    },
    {
     "data": {
      "text/plain": [
       "10"
      ]
     },
     "execution_count": 2,
     "metadata": {},
     "output_type": "execute_result"
    }
   ],
   "source": [
    "add_sum(1,2,3,4)"
   ]
  },
  {
   "cell_type": "code",
   "execution_count": 4,
   "metadata": {},
   "outputs": [],
   "source": [
    "def print_player(**player):\n",
    "    print(player)"
   ]
  },
  {
   "cell_type": "code",
   "execution_count": 5,
   "metadata": {},
   "outputs": [
    {
     "name": "stdout",
     "output_type": "stream",
     "text": [
      "{'name': 'son', 'age': 33}\n"
     ]
    }
   ],
   "source": [
    "print_player(name='son', age=33)"
   ]
  },
  {
   "cell_type": "code",
   "execution_count": 9,
   "metadata": {},
   "outputs": [],
   "source": [
    "# lambda 함수\n",
    "# 함수이름 = lambda 매개변수1, 매개변수2, .... : 매개변수를 이용한 표현식\n",
    "add_fn = lambda n1, n2: n1+n2"
   ]
  },
  {
   "cell_type": "code",
   "execution_count": 10,
   "metadata": {},
   "outputs": [
    {
     "data": {
      "text/plain": [
       "3"
      ]
     },
     "execution_count": 10,
     "metadata": {},
     "output_type": "execute_result"
    }
   ],
   "source": [
    "add_fn(1, 2)"
   ]
  },
  {
   "cell_type": "code",
   "execution_count": 11,
   "metadata": {},
   "outputs": [],
   "source": [
    "# tuple형식의 응답 : 여러 데이터를 응답\n",
    "def fn2(a, b):\n",
    "    return(a*a, b*b)"
   ]
  },
  {
   "cell_type": "code",
   "execution_count": 12,
   "metadata": {},
   "outputs": [
    {
     "data": {
      "text/plain": [
       "(4, 9)"
      ]
     },
     "execution_count": 12,
     "metadata": {},
     "output_type": "execute_result"
    }
   ],
   "source": [
    "fn2(2, 3)"
   ]
  },
  {
   "cell_type": "code",
   "execution_count": 13,
   "metadata": {},
   "outputs": [
    {
     "name": "stdout",
     "output_type": "stream",
     "text": [
      "0 body\n",
      "1 foo\n",
      "2 bar\n"
     ]
    }
   ],
   "source": [
    "# enumerate()\n",
    "# 시퀀스데이터(리스트, 츄플, 문자열)를 입력받아 인덱스 값을 포함하는 enumerate 객체 리턴\n",
    "for i, name in enumerate(['body', 'foo', 'bar']):\n",
    "    print(i, name)"
   ]
  },
  {
   "cell_type": "code",
   "execution_count": 14,
   "metadata": {},
   "outputs": [],
   "source": [
    "# filter 함수\n",
    "# 시퀀스 데이터의 요소 값을 순서대로 함수에 전달하며 리턴값이 참인 것만 묶어서 리턴\n",
    "\n",
    "def postive(x):\n",
    "    return x > 0\n"
   ]
  },
  {
   "cell_type": "code",
   "execution_count": 15,
   "metadata": {},
   "outputs": [
    {
     "name": "stdout",
     "output_type": "stream",
     "text": [
      "[1, 2, 5, 6]\n"
     ]
    }
   ],
   "source": [
    "print(list(filter(postive, [1,-3, 2, 0, 5, 6])))"
   ]
  },
  {
   "cell_type": "code",
   "execution_count": 17,
   "metadata": {},
   "outputs": [
    {
     "data": {
      "text/plain": [
       "[1, 2, 6]"
      ]
     },
     "execution_count": 17,
     "metadata": {},
     "output_type": "execute_result"
    }
   ],
   "source": [
    "# lambda를 사용하여 더 간단하게 표현 가능\n",
    "\n",
    "list(filter(lambda x: x>0, [1,-3, 2, 0, -5, 6]))"
   ]
  },
  {
   "cell_type": "code",
   "execution_count": 18,
   "metadata": {},
   "outputs": [
    {
     "data": {
      "text/plain": [
       "[2, 4, 6, 8]"
      ]
     },
     "execution_count": 18,
     "metadata": {},
     "output_type": "execute_result"
    }
   ],
   "source": [
    "# map 함수\n",
    "# map(f, iterable)\n",
    "# 함수(f)와 시퀀스 데이터를 입력 받음\n",
    "# 입력 받은 데이터의 각 요소를 함수 f에 전달하고 결과를 리턴 받아 결과 값들을 리스트로 반환\n",
    "\n",
    "def two_times(x):\n",
    "    return x * 2\n",
    "\n",
    "list(map(two_times, [1,2,3,4]))"
   ]
  },
  {
   "cell_type": "code",
   "execution_count": 19,
   "metadata": {},
   "outputs": [
    {
     "data": {
      "text/plain": [
       "[2, 4, 6, 8, 10]"
      ]
     },
     "execution_count": 19,
     "metadata": {},
     "output_type": "execute_result"
    }
   ],
   "source": [
    "# lambda를 사용가능\n",
    "list(map(lambda x: x*2, [1,2,3,4,5]))"
   ]
  },
  {
   "cell_type": "markdown",
   "metadata": {},
   "source": [
    "# 파이썬의 입출력"
   ]
  },
  {
   "cell_type": "code",
   "execution_count": 21,
   "metadata": {},
   "outputs": [],
   "source": [
    "# 파이썬의 표준 입/출력\n",
    "# 입력함수 : input(), 출력함수 : print()\n",
    "\n",
    "name = input()"
   ]
  },
  {
   "cell_type": "code",
   "execution_count": 22,
   "metadata": {},
   "outputs": [
    {
     "data": {
      "text/plain": [
       "'손흥민'"
      ]
     },
     "execution_count": 22,
     "metadata": {},
     "output_type": "execute_result"
    }
   ],
   "source": [
    "name"
   ]
  },
  {
   "cell_type": "code",
   "execution_count": 23,
   "metadata": {},
   "outputs": [
    {
     "data": {
      "text/plain": [
       "str"
      ]
     },
     "execution_count": 23,
     "metadata": {},
     "output_type": "execute_result"
    }
   ],
   "source": [
    "type(name)"
   ]
  },
  {
   "cell_type": "code",
   "execution_count": 24,
   "metadata": {},
   "outputs": [
    {
     "name": "stdout",
     "output_type": "stream",
     "text": [
      "나이 : 27살\n"
     ]
    }
   ],
   "source": [
    "#사용자로부터 태어난 년도를 입력받아\n",
    "#나이를 계산해서\n",
    "#출력\n",
    "birth_year = int(input(\"태어난 년도를 입력해주세요\"))\n",
    "age = 2024 - birth_year\n",
    "print(f'나이 : {age}살')"
   ]
  },
  {
   "cell_type": "code",
   "execution_count": 27,
   "metadata": {},
   "outputs": [],
   "source": [
    "# 파일 생성하기\n",
    "# 차일을 통한 입출력도 가능\n",
    "f = open(\"새 파일.txt\", 'w')\n",
    "for i in range(1, 11):\n",
    "    data = '%d번째 줄입니다.\\n' % i\n",
    "    f.write(data)\n",
    "f.close()\n"
   ]
  },
  {
   "cell_type": "code",
   "execution_count": 28,
   "metadata": {},
   "outputs": [
    {
     "name": "stdout",
     "output_type": "stream",
     "text": [
      "1번째 줄입니다.\n",
      "\n",
      "2번째 줄입니다.\n",
      "\n"
     ]
    }
   ],
   "source": [
    "# 파일 읽기\n",
    "f = open('새 파일.txt', 'r')\n",
    "line_1 = f.readline()\n",
    "print(line_1)\n",
    "line_2 = f.readline()\n",
    "print(line_2)\n",
    "f.close()"
   ]
  },
  {
   "cell_type": "code",
   "execution_count": 31,
   "metadata": {},
   "outputs": [
    {
     "name": "stdout",
     "output_type": "stream",
     "text": [
      "1번째 줄입니다.\n",
      "2번째 줄입니다.\n",
      "3번째 줄입니다.\n",
      "4번째 줄입니다.\n",
      "5번째 줄입니다.\n",
      "6번째 줄입니다.\n",
      "7번째 줄입니다.\n",
      "8번째 줄입니다.\n",
      "9번째 줄입니다.\n",
      "10번째 줄입니다.\n"
     ]
    }
   ],
   "source": [
    "f = open('새 파일.txt', 'r')\n",
    "while 1:\n",
    "    line = f.readline()\n",
    "    if not line:\n",
    "        break\n",
    "    print(line, end='')\n",
    "f.close()"
   ]
  },
  {
   "cell_type": "code",
   "execution_count": null,
   "metadata": {},
   "outputs": [],
   "source": [
    "f = open('새 파일.txt', 'r')\n",
    "while 1:\n",
    "    line = f.readlines()\n",
    "    if not line:\n",
    "        break\n",
    "    print(line, end='')\n",
    "f.close()"
   ]
  },
  {
   "cell_type": "code",
   "execution_count": 32,
   "metadata": {},
   "outputs": [
    {
     "name": "stdout",
     "output_type": "stream",
     "text": [
      "1번째 줄입니다.\n",
      "\n",
      "2번째 줄입니다.\n",
      "\n",
      "3번째 줄입니다.\n",
      "\n",
      "4번째 줄입니다.\n",
      "\n",
      "5번째 줄입니다.\n",
      "\n",
      "6번째 줄입니다.\n",
      "\n",
      "7번째 줄입니다.\n",
      "\n",
      "8번째 줄입니다.\n",
      "\n",
      "9번째 줄입니다.\n",
      "\n",
      "10번째 줄입니다.\n",
      "\n"
     ]
    }
   ],
   "source": [
    "f = open('새 파일.txt', 'r')\n",
    "lines = f.readlines()\n",
    "for line in lines:\n",
    "    print(line)\n",
    "f.close()"
   ]
  },
  {
   "cell_type": "code",
   "execution_count": 33,
   "metadata": {},
   "outputs": [
    {
     "name": "stdout",
     "output_type": "stream",
     "text": [
      "1번째 줄입니다.\n",
      "2번째 줄입니다.\n",
      "3번째 줄입니다.\n",
      "4번째 줄입니다.\n",
      "5번째 줄입니다.\n",
      "6번째 줄입니다.\n",
      "7번째 줄입니다.\n",
      "8번째 줄입니다.\n",
      "9번째 줄입니다.\n",
      "10번째 줄입니다.\n"
     ]
    }
   ],
   "source": [
    "f = open('새 파일.txt', 'r')\n",
    "lines = f.readlines()\n",
    "for line in lines:\n",
    "    print(line, end='')\n",
    "f.close()"
   ]
  },
  {
   "cell_type": "code",
   "execution_count": 35,
   "metadata": {},
   "outputs": [],
   "source": [
    "# 파일에 라인추가\n",
    "f = open('새 파일.txt', 'a')\n",
    "for i in range(11, 16):\n",
    "    f.write(f'{i}번째 줄입니다.\\n')\n",
    "f.close()\n"
   ]
  },
  {
   "cell_type": "markdown",
   "metadata": {},
   "source": [
    "# 예외처리"
   ]
  },
  {
   "cell_type": "markdown",
   "metadata": {},
   "source": [
    "try-except문\n",
    "- 오류 종류에 상관없이 오류가 발생하면 except 블록 수행\n",
    "```python\n",
    "try:\n",
    "    .....\n",
    "except:\n",
    "    .....\n",
    "```\n",
    "- 오류가 발생했을 때 except 문에 미리 정해 놓은 오류와 동일할 때만 except 블록을 수행하는 경우\n",
    "```python\n",
    "try:\n",
    "    .....\n",
    "except error:\n",
    "    .....\n",
    "```"
   ]
  },
  {
   "cell_type": "code",
   "execution_count": 36,
   "metadata": {},
   "outputs": [
    {
     "name": "stdout",
     "output_type": "stream",
     "text": [
      "division by zero\n"
     ]
    }
   ],
   "source": [
    "try:\n",
    "    4 / 0\n",
    "except ZeroDivisionError as e:\n",
    "    print(e)"
   ]
  },
  {
   "cell_type": "code",
   "execution_count": 37,
   "metadata": {},
   "outputs": [
    {
     "name": "stdout",
     "output_type": "stream",
     "text": [
      "문제가 발생했습니다.\n",
      "프로그램 종료\n"
     ]
    }
   ],
   "source": [
    "try:\n",
    "    print(10/0)\n",
    "except:\n",
    "    print('문제가 발생했습니다.')\n",
    "print('프로그램 종료')"
   ]
  },
  {
   "cell_type": "code",
   "execution_count": 40,
   "metadata": {},
   "outputs": [
    {
     "name": "stdout",
     "output_type": "stream",
     "text": [
      "2 - 문제가 발생했습니다.\n",
      "list index out of range\n",
      "프로그램 종료\n"
     ]
    }
   ],
   "source": [
    "list_2 = [1, 2]\n",
    "try:\n",
    "    print(list_2[2])\n",
    "    usr_name\n",
    "    print(10/0)\n",
    "except ZeroDivisionError:\n",
    "    print('1 - 문제가 발생했습니다.')\n",
    "except (NameError, IndexError) as e:\n",
    "    print('2 - 문제가 발생했습니다.')\n",
    "    print(e)\n",
    "except:\n",
    "    print('error!!!')\n",
    "print('프로그램 종료')"
   ]
  },
  {
   "cell_type": "markdown",
   "metadata": {},
   "source": [
    "try-finally문\n",
    "- finally는 예외 발생 여부에 상관없이 항상 수행됨\n",
    "- 보통 finally 절은 사용한 리소스츨 close해야 할 때 많이 사용"
   ]
  },
  {
   "cell_type": "code",
   "execution_count": 41,
   "metadata": {},
   "outputs": [
    {
     "name": "stdout",
     "output_type": "stream",
     "text": [
      "Hello\n",
      "!!!!!\n"
     ]
    }
   ],
   "source": [
    "try:\n",
    "    print('Hello')\n",
    "except:\n",
    "    print('error!')\n",
    "finally:\n",
    "    print('!!!!!')"
   ]
  },
  {
   "cell_type": "code",
   "execution_count": 48,
   "metadata": {},
   "outputs": [
    {
     "name": "stdout",
     "output_type": "stream",
     "text": [
      "성인\n"
     ]
    }
   ],
   "source": [
    "#try ~ else\n",
    "try:\n",
    "    age = int(input('나이를 입력하세요'))\n",
    "except:\n",
    "    print('숫자 형식으로 입력해야 합니다.')\n",
    "else:\n",
    "    if age > 19:\n",
    "        print('성인')\n",
    "    else:\n",
    "        print('미성년')"
   ]
  },
  {
   "cell_type": "code",
   "execution_count": 1,
   "metadata": {},
   "outputs": [],
   "source": [
    "# 오류 회피 : pass\n",
    "try:\n",
    "    f = open('no_file.txt', 'r')\n",
    "except FileNotFoundError:\n",
    "    pass"
   ]
  },
  {
   "cell_type": "code",
   "execution_count": 2,
   "metadata": {},
   "outputs": [],
   "source": [
    "def add_and_mul(a, b):\n",
    "    return a+b, a*b"
   ]
  },
  {
   "cell_type": "code",
   "execution_count": 3,
   "metadata": {},
   "outputs": [],
   "source": [
    "result1, result2 = add_and_mul(3, 4)"
   ]
  },
  {
   "cell_type": "code",
   "execution_count": 4,
   "metadata": {},
   "outputs": [
    {
     "data": {
      "text/plain": [
       "7"
      ]
     },
     "execution_count": 4,
     "metadata": {},
     "output_type": "execute_result"
    }
   ],
   "source": [
    "result1"
   ]
  },
  {
   "cell_type": "code",
   "execution_count": 5,
   "metadata": {},
   "outputs": [
    {
     "data": {
      "text/plain": [
       "12"
      ]
     },
     "execution_count": 5,
     "metadata": {},
     "output_type": "execute_result"
    }
   ],
   "source": [
    "result2"
   ]
  },
  {
   "cell_type": "code",
   "execution_count": null,
   "metadata": {},
   "outputs": [],
   "source": []
  }
 ],
 "metadata": {
  "kernelspec": {
   "display_name": "Python 3",
   "language": "python",
   "name": "python3"
  },
  "language_info": {
   "codemirror_mode": {
    "name": "ipython",
    "version": 3
   },
   "file_extension": ".py",
   "mimetype": "text/x-python",
   "name": "python",
   "nbconvert_exporter": "python",
   "pygments_lexer": "ipython3",
   "version": "3.13.0"
  }
 },
 "nbformat": 4,
 "nbformat_minor": 2
}
