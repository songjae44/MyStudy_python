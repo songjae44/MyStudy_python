{
 "cells": [
  {
   "cell_type": "markdown",
   "metadata": {},
   "source": [
    "# 프로그램의 흐름제어\n",
    "- ### if 문\n",
    "- ### while 문\n",
    "- ### for 문"
   ]
  },
  {
   "cell_type": "code",
   "execution_count": 1,
   "metadata": {},
   "outputs": [
    {
     "name": "stdout",
     "output_type": "stream",
     "text": [
      "못들어갑니다\n"
     ]
    }
   ],
   "source": [
    "# if : ~라면\n",
    "age = 15\n",
    "\n",
    "# 성인이면 환영, 성인이 아니면 킥\n",
    "if age > 19 :\n",
    "    print('환영합니다')\n",
    "else:\n",
    "    print('못들어갑니다')"
   ]
  },
  {
   "cell_type": "code",
   "execution_count": 2,
   "metadata": {},
   "outputs": [
    {
     "name": "stdout",
     "output_type": "stream",
     "text": [
      "무료 대상자입니다.\n"
     ]
    }
   ],
   "source": [
    "age = 14\n",
    "if age < 15:\n",
    "    print('무료 대상자입니다.')\n",
    "elif age >= 65:\n",
    "    print('무료 대상자입니다.')\n",
    "else:\n",
    "    print('무료 접종 대상자가 아닙니다.')\n"
   ]
  },
  {
   "cell_type": "code",
   "execution_count": 3,
   "metadata": {},
   "outputs": [
    {
     "name": "stdout",
     "output_type": "stream",
     "text": [
      "success\n"
     ]
    }
   ],
   "source": [
    "# 조건부 표현식\n",
    "score = 86\n",
    "message = 'success' if score >= 60 else 'failure'\n",
    "print(message)"
   ]
  },
  {
   "cell_type": "code",
   "execution_count": 4,
   "metadata": {},
   "outputs": [
    {
     "name": "stdout",
     "output_type": "stream",
     "text": [
      "20세 이상 성인이고 무료 검진 대상자가 아닙니다.\n"
     ]
    }
   ],
   "source": [
    "pr_y = 2024\n",
    "bir_y = 1997\n",
    "\n",
    "if pr_y - bir_y >= 20:\n",
    "    if (pr_y - bir_y) % 2 == 0:\n",
    "        if pr_y - bir_y >= 40:\n",
    "            print('40세 이상 성인이고 무료 검진 대상자입니다. 암 검사도 함께 가능합니다.')\n",
    "        else:\n",
    "            print('40세 미만 성인이고 무료 검진 대상자입니다.')\n",
    "        print('20세 이상 성인이고 무료 검진 대상자입니다.')\n",
    "    else:\n",
    "        print('20세 이상 성인이고 무료 검진 대상자가 아닙니다.')\n",
    "else:\n",
    "    print('20세 이상 성인이 아닙니다. 무료 검진이 불가능합니다.')\n"
   ]
  },
  {
   "cell_type": "code",
   "execution_count": 6,
   "metadata": {},
   "outputs": [
    {
     "name": "stdout",
     "output_type": "stream",
     "text": [
      "1\n",
      "2\n",
      "3\n",
      "4\n",
      "5\n"
     ]
    }
   ],
   "source": [
    "cnt = 0\n",
    "while cnt < 5:\n",
    "    cnt += 1\n",
    "    print(cnt)"
   ]
  },
  {
   "cell_type": "code",
   "execution_count": 7,
   "metadata": {},
   "outputs": [
    {
     "name": "stdout",
     "output_type": "stream",
     "text": [
      "1\n",
      "2\n",
      "3\n",
      "4\n",
      "5\n",
      "6\n",
      "7\n",
      "8\n",
      "9\n",
      "10\n"
     ]
    }
   ],
   "source": [
    "cnt = 0\n",
    "while True:\n",
    "    cnt += 1\n",
    "    print(cnt)\n",
    "    if cnt == 10:\n",
    "        break"
   ]
  },
  {
   "cell_type": "code",
   "execution_count": 10,
   "metadata": {},
   "outputs": [
    {
     "name": "stdout",
     "output_type": "stream",
     "text": [
      "1\n",
      "3\n",
      "5\n",
      "7\n",
      "9\n"
     ]
    }
   ],
   "source": [
    "cnt = 0\n",
    "\n",
    "while True:\n",
    "    cnt += 1\n",
    "    if cnt%2 != 0:\n",
    "        print(cnt)\n",
    "    \n",
    "    if cnt == 10:\n",
    "        break"
   ]
  },
  {
   "cell_type": "code",
   "execution_count": 11,
   "metadata": {},
   "outputs": [
    {
     "name": "stdout",
     "output_type": "stream",
     "text": [
      "1번 학생 pass\n",
      "2번 학생 fail\n",
      "3번 학생 pass\n",
      "4번 학생 pass\n",
      "5번 학생 fail\n",
      "점수의 총합 : 355\n",
      "점수의 평균 : 71.0\n"
     ]
    }
   ],
   "source": [
    "# 5명의 학생이 영어 시험 => 60점 이상 pass 출력\n",
    "# 5명의 점수 총합과 평균\n",
    "\n",
    "scores = [80,50, 70, 100, 55]\n",
    "num = 0\n",
    "sum = 0\n",
    "avg = 0\n",
    "for score in scores:\n",
    "    num += 1\n",
    "    if score >= 60:\n",
    "        print(f'{num}번 학생 pass')\n",
    "    else:\n",
    "        print(f'{num}번 학생 fail')\n",
    "    sum += score\n",
    "print(f'점수의 총합 : {sum}')\n",
    "avg = float(sum/num)\n",
    "print(f'점수의 평균 : {avg}')"
   ]
  },
  {
   "cell_type": "code",
   "execution_count": 12,
   "metadata": {},
   "outputs": [
    {
     "name": "stdout",
     "output_type": "stream",
     "text": [
      "0\n",
      "1\n",
      "2\n",
      "3\n",
      "4\n",
      "5\n",
      "6\n",
      "7\n",
      "8\n",
      "9\n"
     ]
    }
   ],
   "source": [
    "# range() => 숫자 생성 함수\n",
    "# range(10) => 0부터 10-1 까지 숫자 생성-\n",
    "\n",
    "for i in range(10):\n",
    "    print(i)"
   ]
  },
  {
   "cell_type": "code",
   "execution_count": 14,
   "metadata": {},
   "outputs": [
    {
     "name": "stdout",
     "output_type": "stream",
     "text": [
      "1\n",
      "3\n",
      "5\n",
      "7\n",
      "9\n"
     ]
    }
   ],
   "source": [
    "# 10이하의 홀수 출력\n",
    "for i in range(1,10,2):\n",
    "    print(i)"
   ]
  },
  {
   "cell_type": "code",
   "execution_count": 16,
   "metadata": {},
   "outputs": [
    {
     "name": "stdout",
     "output_type": "stream",
     "text": [
      "1 2 3 4 5 6 7 8 9 10 "
     ]
    }
   ],
   "source": [
    "# 출력을 줄바뀜 없이 \n",
    "for i in range(1,11):\n",
    "    print(i, end=' ') #' '을 구분으로 출력"
   ]
  },
  {
   "cell_type": "code",
   "execution_count": 21,
   "metadata": {},
   "outputs": [
    {
     "name": "stdout",
     "output_type": "stream",
     "text": [
      "2단\n",
      "2 x 1 = 2, 2 x 2 = 4, 2 x 3 = 6, 2 x 4 = 8, 2 x 5 = 10, 2 x 6 = 12, 2 x 7 = 14, 2 x 8 = 16, 2 x 9 = 18\n",
      "3단\n",
      "3 x 1 = 3, 3 x 2 = 6, 3 x 3 = 9, 3 x 4 = 12, 3 x 5 = 15, 3 x 6 = 18, 3 x 7 = 21, 3 x 8 = 24, 3 x 9 = 27\n",
      "4단\n",
      "4 x 1 = 4, 4 x 2 = 8, 4 x 3 = 12, 4 x 4 = 16, 4 x 5 = 20, 4 x 6 = 24, 4 x 7 = 28, 4 x 8 = 32, 4 x 9 = 36\n",
      "5단\n",
      "5 x 1 = 5, 5 x 2 = 10, 5 x 3 = 15, 5 x 4 = 20, 5 x 5 = 25, 5 x 6 = 30, 5 x 7 = 35, 5 x 8 = 40, 5 x 9 = 45\n",
      "6단\n",
      "6 x 1 = 6, 6 x 2 = 12, 6 x 3 = 18, 6 x 4 = 24, 6 x 5 = 30, 6 x 6 = 36, 6 x 7 = 42, 6 x 8 = 48, 6 x 9 = 54\n",
      "7단\n",
      "7 x 1 = 7, 7 x 2 = 14, 7 x 3 = 21, 7 x 4 = 28, 7 x 5 = 35, 7 x 6 = 42, 7 x 7 = 49, 7 x 8 = 56, 7 x 9 = 63\n",
      "8단\n",
      "8 x 1 = 8, 8 x 2 = 16, 8 x 3 = 24, 8 x 4 = 32, 8 x 5 = 40, 8 x 6 = 48, 8 x 7 = 56, 8 x 8 = 64, 8 x 9 = 72\n",
      "9단\n",
      "9 x 1 = 9, 9 x 2 = 18, 9 x 3 = 27, 9 x 4 = 36, 9 x 5 = 45, 9 x 6 = 54, 9 x 7 = 63, 9 x 8 = 72, 9 x 9 = 81\n"
     ]
    }
   ],
   "source": [
    "#반복문 실습 : 구구단 구현\n",
    "\n",
    "for i in range(2,10):\n",
    "    print(f'{i}단')\n",
    "    for j in range(1, 10):\n",
    "        if j == 9:\n",
    "            print(f'{i} x {j} = {i*j}')\n",
    "        else:\n",
    "            print(f'{i} x {j} = {i*j}', end=', ')"
   ]
  },
  {
   "cell_type": "code",
   "execution_count": null,
   "metadata": {},
   "outputs": [],
   "source": []
  }
 ],
 "metadata": {
  "kernelspec": {
   "display_name": "Python 3",
   "language": "python",
   "name": "python3"
  },
  "language_info": {
   "codemirror_mode": {
    "name": "ipython",
    "version": 3
   },
   "file_extension": ".py",
   "mimetype": "text/x-python",
   "name": "python",
   "nbconvert_exporter": "python",
   "pygments_lexer": "ipython3",
   "version": "3.13.1"
  }
 },
 "nbformat": 4,
 "nbformat_minor": 2
}
